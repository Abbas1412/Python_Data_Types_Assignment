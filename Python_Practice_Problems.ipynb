{
 "cells": [
  {
   "cell_type": "code",
   "execution_count": 1,
   "id": "6fe303ee-71c8-4f3c-acf3-b1587d0b723c",
   "metadata": {},
   "outputs": [],
   "source": [
    "#*******************************************************************************************#"
   ]
  },
  {
   "cell_type": "code",
   "execution_count": 2,
   "id": "46d8734a-0620-47cb-89d3-11e6d2bee0f1",
   "metadata": {},
   "outputs": [],
   "source": [
    "#******************************''''STRING_PRACTICE_PROBLEMS''''*****************************#"
   ]
  },
  {
   "cell_type": "code",
   "execution_count": 3,
   "id": "b452a15e-8412-4d64-85e6-966cf5a3f0c8",
   "metadata": {},
   "outputs": [],
   "source": [
    "#*******************************************************************************************#"
   ]
  },
  {
   "cell_type": "code",
   "execution_count": 6,
   "id": "408c884f-483a-47b0-90f3-bfc2d4a3b589",
   "metadata": {},
   "outputs": [
    {
     "data": {
      "text/plain": [
       "'SABBA NIMAZ'"
      ]
     },
     "execution_count": 6,
     "metadata": {},
     "output_type": "execute_result"
    }
   ],
   "source": [
    "# 1. Write a program to reverse a string.\n",
    "\n",
    "#Code:-\n",
    "\n",
    "s = \"ZAMIN ABBAS\"\n",
    "\n",
    "s[::-1]"
   ]
  },
  {
   "cell_type": "code",
   "execution_count": 7,
   "id": "0a8a7dcc-8efb-45aa-8d84-705d04d16f09",
   "metadata": {},
   "outputs": [
    {
     "data": {
      "text/plain": [
       "True"
      ]
     },
     "execution_count": 7,
     "metadata": {},
     "output_type": "execute_result"
    }
   ],
   "source": [
    "# 2. Check if a string is a palindrome.\n",
    "\n",
    "#Code:-\n",
    "\n",
    "s1 = \"MAHAM\"\n",
    "\n",
    "#Storing reverse of string in another string\n",
    "s2 = s1[::-1]\n",
    "\n",
    "#Checking if the reverse of  string is same or not.\n",
    "s1 == s2"
   ]
  },
  {
   "cell_type": "code",
   "execution_count": 8,
   "id": "55e38bea-c7bd-4ccd-80bf-86055fe6c517",
   "metadata": {},
   "outputs": [
    {
     "data": {
      "text/plain": [
       "'ZAMIN'"
      ]
     },
     "execution_count": 8,
     "metadata": {},
     "output_type": "execute_result"
    }
   ],
   "source": [
    "# 3. Convert a string to uppercase.\n",
    "\n",
    "#Code:-\n",
    "\n",
    "s = \"zamin\"\n",
    "\n",
    "s.upper()"
   ]
  },
  {
   "cell_type": "code",
   "execution_count": 10,
   "id": "e34df4de-ba15-43ab-8c69-4bbe3fbc492e",
   "metadata": {},
   "outputs": [
    {
     "data": {
      "text/plain": [
       "'zamin'"
      ]
     },
     "execution_count": 10,
     "metadata": {},
     "output_type": "execute_result"
    }
   ],
   "source": [
    "# 4. Convert a string to lowercase.\n",
    "\n",
    "#Code:-\n",
    "\n",
    "s = \"ZAMIN\"\n",
    "\n",
    "s.lower()"
   ]
  },
  {
   "cell_type": "code",
   "execution_count": 12,
   "id": "4e341b8f-cdac-46ef-bed8-757b82caf2e0",
   "metadata": {},
   "outputs": [
    {
     "data": {
      "text/plain": [
       "10"
      ]
     },
     "execution_count": 12,
     "metadata": {},
     "output_type": "execute_result"
    }
   ],
   "source": [
    "# 5. Count the number of vowels in a string.\n",
    "\n",
    "#Code:-\n",
    "\n",
    "s = 'Discipline is the key to success'\n",
    "\n",
    "No_Of_Vowels = s.count('a') + s.count('e') + s.count('i') + s.count('o') + s.count('u')\n",
    "\n",
    "No_Of_Vowels"
   ]
  },
  {
   "cell_type": "code",
   "execution_count": 17,
   "id": "36edcc43-f053-4254-b386-74079c60637a",
   "metadata": {},
   "outputs": [
    {
     "data": {
      "text/plain": [
       "17"
      ]
     },
     "execution_count": 17,
     "metadata": {},
     "output_type": "execute_result"
    }
   ],
   "source": [
    "# 6. Count the number of consonants in a string.\n",
    "\n",
    "#Code:-\n",
    "\n",
    "s = 'Discipline is the key to success'\n",
    "\n",
    "No_Of_Vowels = s.count('a') + s.count('e') + s.count('i') + s.count('o') + s.count('u')\n",
    "\n",
    "No_Of_Spaces = s.count(' ')\n",
    "\n",
    "No_Of_Consonants = (len(s) - No_Of_Vowels) - No_Of_Spaces\n",
    "\n",
    "No_Of_Consonants"
   ]
  },
  {
   "cell_type": "code",
   "execution_count": 30,
   "id": "fc1e7b79-fc9a-46c7-bd9b-4c19491b25dd",
   "metadata": {},
   "outputs": [
    {
     "data": {
      "text/plain": [
       "'Disciplineisthekeytosuccess'"
      ]
     },
     "execution_count": 30,
     "metadata": {},
     "output_type": "execute_result"
    }
   ],
   "source": [
    "# 7. Remove all whitespaces from a string.\n",
    "\n",
    "#Code:-\n",
    "\n",
    "s = 'Discipline is the key to success'\n",
    "\n",
    "\n",
    "s.replace(\" \", \"\")"
   ]
  },
  {
   "cell_type": "code",
   "execution_count": 67,
   "id": "fa8192aa-eb57-4d90-8e01-22805c35965b",
   "metadata": {},
   "outputs": [
    {
     "data": {
      "text/plain": [
       "32"
      ]
     },
     "execution_count": 67,
     "metadata": {},
     "output_type": "execute_result"
    }
   ],
   "source": [
    "# 8. Find the length of a string without using the `len()` function.\n",
    "\n",
    "#Code:-\n",
    "\n",
    "s = 'Discipline is the key to success'\n",
    "\n",
    "length = 1 + s.rfind(s[-1])\n",
    "\n",
    "length"
   ]
  },
  {
   "cell_type": "code",
   "execution_count": 144,
   "id": "1c61285f-0fb6-4de8-b2fc-dfbfe0b00b8e",
   "metadata": {},
   "outputs": [
    {
     "data": {
      "text/plain": [
       "True"
      ]
     },
     "execution_count": 144,
     "metadata": {},
     "output_type": "execute_result"
    }
   ],
   "source": [
    "# 9. Check if a string contains a specific word.\n",
    "\n",
    "#Code:-\n",
    "\n",
    "s = 'Discipline is the key to success'\n",
    "\n",
    "word = 'key'\n",
    "\n",
    "s.find(word) >= 0"
   ]
  },
  {
   "cell_type": "code",
   "execution_count": 55,
   "id": "1626e096-8fc3-497a-914a-ce0e6c307136",
   "metadata": {},
   "outputs": [
    {
     "data": {
      "text/plain": [
       "'Game'"
      ]
     },
     "execution_count": 55,
     "metadata": {},
     "output_type": "execute_result"
    }
   ],
   "source": [
    "# 10. Replace a word in a string with another word.\n",
    "\n",
    "#Code:-\n",
    "\n",
    "s = 'Name'\n",
    "\n",
    "s.replace('N','G')"
   ]
  },
  {
   "cell_type": "code",
   "execution_count": 57,
   "id": "6993f76b-c54c-4496-926c-61ef0b4525a0",
   "metadata": {},
   "outputs": [
    {
     "data": {
      "text/plain": [
       "4"
      ]
     },
     "execution_count": 57,
     "metadata": {},
     "output_type": "execute_result"
    }
   ],
   "source": [
    "# 11. Count the occurrences of a word in a string.\n",
    "\n",
    "#Code:-\n",
    "\n",
    "s = 'Discipline is the key to success'\n",
    "\n",
    "s.count('i')"
   ]
  },
  {
   "cell_type": "code",
   "execution_count": 59,
   "id": "9067c960-821e-4811-884b-4b2adccc596b",
   "metadata": {},
   "outputs": [
    {
     "data": {
      "text/plain": [
       "2"
      ]
     },
     "execution_count": 59,
     "metadata": {},
     "output_type": "execute_result"
    }
   ],
   "source": [
    "# 12. Find the first occurrence of a word in a string.\n",
    "\n",
    "#Code:-\n",
    "\n",
    "s = 'Discipline is the key to success'\n",
    "\n",
    "s.find('s')"
   ]
  },
  {
   "cell_type": "code",
   "execution_count": 69,
   "id": "5f822b34-03b4-487e-b1a4-ac857ee84841",
   "metadata": {},
   "outputs": [
    {
     "data": {
      "text/plain": [
       "29"
      ]
     },
     "execution_count": 69,
     "metadata": {},
     "output_type": "execute_result"
    }
   ],
   "source": [
    "# 13. Find the last occurrence of a word in a string.\n",
    "\n",
    "#Code:-\n",
    "\n",
    "s = 'Discipline is the key to success'\n",
    "\n",
    "s.rfind('e')"
   ]
  },
  {
   "cell_type": "code",
   "execution_count": 72,
   "id": "60b25a31-0925-4c98-b30e-01ca84e595fd",
   "metadata": {},
   "outputs": [
    {
     "data": {
      "text/plain": [
       "['Discipline', 'is', 'the', 'key', 'to', 'success']"
      ]
     },
     "execution_count": 72,
     "metadata": {},
     "output_type": "execute_result"
    }
   ],
   "source": [
    "# 14. Split a string into a list of words.\n",
    "\n",
    "#Code:-\n",
    "\n",
    "s = 'Discipline is the key to success'\n",
    "\n",
    "s.split()"
   ]
  },
  {
   "cell_type": "code",
   "execution_count": 81,
   "id": "28d7c55d-539b-47b2-8100-e91b6e5036da",
   "metadata": {},
   "outputs": [
    {
     "data": {
      "text/plain": [
       "'Discipline is the key to success'"
      ]
     },
     "execution_count": 81,
     "metadata": {},
     "output_type": "execute_result"
    }
   ],
   "source": [
    "# 15. Join a list of words into a string.\n",
    "\n",
    "#Code:-\n",
    "\n",
    "l = ['Discipline', 'is', 'the', 'key', 'to', 'success']\n",
    "\n",
    "s = \" \".join(l)\n",
    "\n",
    "s"
   ]
  },
  {
   "cell_type": "code",
   "execution_count": 83,
   "id": "0889a4af-609d-47e6-b5f4-b73587a90670",
   "metadata": {},
   "outputs": [
    {
     "data": {
      "text/plain": [
       "'Discipline_is_the_key_to_success'"
      ]
     },
     "execution_count": 83,
     "metadata": {},
     "output_type": "execute_result"
    }
   ],
   "source": [
    "# 16. Convert a string where words are separated by spaces to one where words are separated by underscores.\n",
    "\n",
    "#Code:-\n",
    "\n",
    "s = 'Discipline is the key to success'\n",
    "\n",
    "s.replace(' ', '_')"
   ]
  },
  {
   "cell_type": "code",
   "execution_count": 162,
   "id": "26c1687f-f977-45b3-89df-7a6537412acf",
   "metadata": {},
   "outputs": [
    {
     "data": {
      "text/plain": [
       "True"
      ]
     },
     "execution_count": 162,
     "metadata": {},
     "output_type": "execute_result"
    }
   ],
   "source": [
    "# 17. Check if a string starts with a specific word or phrase.\n",
    "\n",
    "#Code:-\n",
    "\n",
    "s = 'Discipline is the key to success'\n",
    "\n",
    "word  = 'Discipline'\n",
    "\n",
    "l = s.split()\n",
    "\n",
    "word == l[0]"
   ]
  },
  {
   "cell_type": "code",
   "execution_count": 161,
   "id": "c8481f3a-51cd-4648-ab11-c23ea7baece7",
   "metadata": {},
   "outputs": [
    {
     "data": {
      "text/plain": [
       "True"
      ]
     },
     "execution_count": 161,
     "metadata": {},
     "output_type": "execute_result"
    }
   ],
   "source": [
    "# 18. Check if a string ends with a specific word or phrase.\n",
    "\n",
    "#Code:-\n",
    "\n",
    "s = 'Discipline is the key to success'\n",
    "\n",
    "word = 'success'\n",
    "\n",
    "l = s.split()\n",
    "\n",
    "word==l[-1]"
   ]
  },
  {
   "cell_type": "code",
   "execution_count": 88,
   "id": "77fbc4fc-94c8-48c1-81eb-ad349bf0bcee",
   "metadata": {},
   "outputs": [
    {
     "data": {
      "text/plain": [
       "'Discipline Is The Key To Success'"
      ]
     },
     "execution_count": 88,
     "metadata": {},
     "output_type": "execute_result"
    }
   ],
   "source": [
    "# 19. Convert a string to title case (e.g., \"hello world\" to \"Hello World\").\n",
    "\n",
    "#Code:-\n",
    "\n",
    "s = 'Discipline is the key to success'\n",
    "\n",
    "s.title()"
   ]
  },
  {
   "cell_type": "code",
   "execution_count": 106,
   "id": "23aa88dd-d072-40ef-8c09-4dd7c2dfaf3d",
   "metadata": {},
   "outputs": [
    {
     "data": {
      "text/plain": [
       "'Elemtphaghaha'"
      ]
     },
     "execution_count": 106,
     "metadata": {},
     "output_type": "execute_result"
    }
   ],
   "source": [
    "# 20. Find the longest word in a string.\n",
    "\n",
    "#Code:-\n",
    "\n",
    "s = 'Discipline Elemtphaghaha is the key game success'\n",
    "\n",
    "l = s.split()\n",
    "\n",
    "max(l,key = len)"
   ]
  },
  {
   "cell_type": "code",
   "execution_count": 109,
   "id": "e062ec85-a7e7-4024-9692-334e351754ed",
   "metadata": {},
   "outputs": [
    {
     "data": {
      "text/plain": [
       "'is'"
      ]
     },
     "execution_count": 109,
     "metadata": {},
     "output_type": "execute_result"
    }
   ],
   "source": [
    "# 21. Find the shortest word in a string.\n",
    "\n",
    "#Code:-\n",
    "\n",
    "s = 'Discipline Elemtphaghaha is the key game success'\n",
    "\n",
    "l = s.split()\n",
    "\n",
    "min(l, key=len)"
   ]
  },
  {
   "cell_type": "code",
   "execution_count": 124,
   "id": "0082ad85-6ed3-4980-8a77-d1275df10d69",
   "metadata": {},
   "outputs": [
    {
     "data": {
      "text/plain": [
       "'enilpicsiD si eht yek ot sseccus'"
      ]
     },
     "execution_count": 124,
     "metadata": {},
     "output_type": "execute_result"
    }
   ],
   "source": [
    "# 22. Reverse the order of words in a string.\n",
    "\n",
    "s = 'Discipline is the key to success'\n",
    "\n",
    "s1 = s[::-1]\n",
    "\n",
    "l = s1.split()\n",
    "\n",
    "l1 = l[::-1]\n",
    "\n",
    "s = \" \".join(l1)\n",
    "\n",
    "s"
   ]
  },
  {
   "cell_type": "code",
   "execution_count": 129,
   "id": "0a62d972-1262-45b4-bef4-d3b6cfc0ba06",
   "metadata": {},
   "outputs": [
    {
     "data": {
      "text/plain": [
       "False"
      ]
     },
     "execution_count": 129,
     "metadata": {},
     "output_type": "execute_result"
    }
   ],
   "source": [
    "# 23. Check if a string is alphanumeric.\n",
    "\n",
    "#Code:-\n",
    "\n",
    "s = 'Discipline786 is the key to success110'\n",
    "\n",
    "s.isalnum()"
   ]
  },
  {
   "cell_type": "code",
   "execution_count": 179,
   "id": "8e24a528-3147-4013-8da3-e0ffd8959a99",
   "metadata": {},
   "outputs": [
    {
     "data": {
      "text/plain": [
       "['7', '8', '6', '1', '1', '0']"
      ]
     },
     "execution_count": 179,
     "metadata": {},
     "output_type": "execute_result"
    }
   ],
   "source": [
    "# 24. Extract all digits from a string.\n",
    "\n",
    "#Code:-\n",
    "\n",
    "s = 'Discipline786 is the key to success110'\n",
    "\n",
    "digits = filter(str.isdigit, s)\n",
    "\n",
    "list(digits)"
   ]
  },
  {
   "cell_type": "code",
   "execution_count": 177,
   "id": "420a48cc-eb48-40c0-a71b-099a03efffe7",
   "metadata": {},
   "outputs": [
    {
     "data": {
      "text/plain": [
       "'Disciplineisthekeytosuccess'"
      ]
     },
     "execution_count": 177,
     "metadata": {},
     "output_type": "execute_result"
    }
   ],
   "source": [
    "# 25. Extract all alphabets from a string.\n",
    "\n",
    "#Code:-\n",
    "\n",
    "s = 'Discipline786 is the key to success110'\n",
    "\n",
    "alphabets = filter(str.isalpha, s)\n",
    "\n",
    "s1 = \"\".join(alphabets)\n",
    "\n",
    "s1"
   ]
  },
  {
   "cell_type": "code",
   "execution_count": 174,
   "id": "0a44e111-c197-49cb-82c4-f15cda1b2199",
   "metadata": {},
   "outputs": [
    {
     "data": {
      "text/plain": [
       "1"
      ]
     },
     "execution_count": 174,
     "metadata": {},
     "output_type": "execute_result"
    }
   ],
   "source": [
    "# 26. Count the number of uppercase letters in a string.\n",
    "\n",
    "# Code:-\n",
    "\n",
    "s = 'Discipline786 is the key to success110'\n",
    "\n",
    "upper = filter(str.isupper,s)\n",
    "\n",
    "s1 = \"\".join(upper)\n",
    "\n",
    "len(s1)"
   ]
  },
  {
   "cell_type": "code",
   "execution_count": 171,
   "id": "04e03ce9-f0a4-4331-852f-ea3d8f31a4ae",
   "metadata": {},
   "outputs": [
    {
     "data": {
      "text/plain": [
       "26"
      ]
     },
     "execution_count": 171,
     "metadata": {},
     "output_type": "execute_result"
    }
   ],
   "source": [
    "# 27. Count the number of lowercase letters in a string.\n",
    "\n",
    "#Code:-\n",
    "\n",
    "s = 'Discipline786 is the key to success110'\n",
    "\n",
    "lower = filter(str.islower,s)\n",
    "\n",
    "l = list(lower)\n",
    "\n",
    "len(l)"
   ]
  },
  {
   "cell_type": "code",
   "execution_count": 134,
   "id": "f9791f38-bdc6-4e1d-94e9-a42874506e29",
   "metadata": {},
   "outputs": [
    {
     "data": {
      "text/plain": [
       "'dISCIPLINE786 IS THE KEY TO SUCCESS110'"
      ]
     },
     "execution_count": 134,
     "metadata": {},
     "output_type": "execute_result"
    }
   ],
   "source": [
    "# 28. Swap the case of each character in a string.\n",
    "\n",
    "#Code:-\n",
    "\n",
    "s = 'Discipline786 is the key to success110'\n",
    "\n",
    "s.swapcase()"
   ]
  },
  {
   "cell_type": "code",
   "execution_count": 147,
   "id": "8e9deb35-3014-4d72-883a-f9d63af1baf0",
   "metadata": {},
   "outputs": [
    {
     "data": {
      "text/plain": [
       "'Dcipline786  the key to success110'"
      ]
     },
     "execution_count": 147,
     "metadata": {},
     "output_type": "execute_result"
    }
   ],
   "source": [
    "# 29. Remove a specific word from a string.\n",
    "\n",
    "#Code:-\n",
    "\n",
    "s = 'Discipline786 is the key to success110'\n",
    "\n",
    "word = 'is'\n",
    "\n",
    "s.replace(word, \"\")"
   ]
  },
  {
   "cell_type": "code",
   "execution_count": 23,
   "id": "0b11531c-19a4-4002-9ae4-22141df69d17",
   "metadata": {},
   "outputs": [
    {
     "data": {
      "text/plain": [
       "True"
      ]
     },
     "execution_count": 23,
     "metadata": {},
     "output_type": "execute_result"
    }
   ],
   "source": [
    "# 30. Check if a string is a valid email address.\n",
    "\n",
    "#Code:-\n",
    "\n",
    "s = 'zaminabba!s084@gmail.com'\n",
    "\n",
    "s1 = s.split('@')[1]\n",
    "\n",
    "s1 = s1.split('.')[1]\n",
    "\n",
    "s1 == 'com'"
   ]
  },
  {
   "cell_type": "code",
   "execution_count": 2,
   "id": "a204f2c2-c26f-4e4b-9f86-7cbab10835be",
   "metadata": {},
   "outputs": [
    {
     "data": {
      "text/plain": [
       "'zaminabbas084'"
      ]
     },
     "execution_count": 2,
     "metadata": {},
     "output_type": "execute_result"
    }
   ],
   "source": [
    "#  31. Extract the username from an email address string.\n",
    "\n",
    "#Code:-\n",
    "\n",
    "s = 'zaminabbas084@gmail.com'\n",
    "\n",
    "\n",
    "s.split('@')[0]"
   ]
  },
  {
   "cell_type": "code",
   "execution_count": 6,
   "id": "0c016c9d-4134-45e3-a62a-089287262530",
   "metadata": {},
   "outputs": [
    {
     "data": {
      "text/plain": [
       "'gmail'"
      ]
     },
     "execution_count": 6,
     "metadata": {},
     "output_type": "execute_result"
    }
   ],
   "source": [
    "# 32. Extract the domain name from an email address string.\n",
    "\n",
    "#Code:-\n",
    "\n",
    "s = 'zaminabbas084@gmail.com'\n",
    "\n",
    "s1 = s.split('@')[1]\n",
    "\n",
    "s1.split('.')[0]"
   ]
  },
  {
   "cell_type": "code",
   "execution_count": 25,
   "id": "091e8a3e-1328-46ec-aa71-6a94a32ac91d",
   "metadata": {},
   "outputs": [
    {
     "data": {
      "text/plain": [
       "'Discipline is the Key To Success'"
      ]
     },
     "execution_count": 25,
     "metadata": {},
     "output_type": "execute_result"
    }
   ],
   "source": [
    "# 33. Replace multiple spaces in a string with a single space.\n",
    "\n",
    "#Code:-\n",
    "\n",
    "s = 'Discipline     is   the  Key To        Success'\n",
    "\n",
    "s1 = s.split()\n",
    "\n",
    "s = ' '.join(s1)\n",
    "\n",
    "s"
   ]
  },
  {
   "cell_type": "code",
   "execution_count": 78,
   "id": "5da054f0-5010-4e37-ba05-8efceab1cab2",
   "metadata": {},
   "outputs": [
    {
     "data": {
      "text/plain": [
       "True"
      ]
     },
     "execution_count": 78,
     "metadata": {},
     "output_type": "execute_result"
    }
   ],
   "source": [
    "# 34. Check if a string is a valid URL.\n",
    "\n",
    "#Code:-\n",
    "\n",
    "from urllib.parse import urlparse\n",
    "\n",
    "url1 = \"https://www.example.com\"\n",
    "\n",
    "result = urlparse(url1)\n",
    "\n",
    "all(result.scheme) and all(result.netloc)"
   ]
  },
  {
   "cell_type": "code",
   "execution_count": 21,
   "id": "706a1b53-6e71-463e-9354-1f16a6d0c2bf",
   "metadata": {},
   "outputs": [
    {
     "data": {
      "text/plain": [
       "'https'"
      ]
     },
     "execution_count": 21,
     "metadata": {},
     "output_type": "execute_result"
    }
   ],
   "source": [
    "# 35. Extract the protocol (http or https) from a URL string.\n",
    "\n",
    "#Code:-\n",
    "\n",
    "s = 'https://fitvitality.com'\n",
    "\n",
    "\n",
    "s.split(':')[0]"
   ]
  },
  {
   "cell_type": "code",
   "execution_count": 37,
   "id": "989b1c03-0e5e-4d8c-9c8f-f772e5213ef2",
   "metadata": {},
   "outputs": [
    {
     "data": {
      "text/plain": [
       "0"
      ]
     },
     "execution_count": 37,
     "metadata": {},
     "output_type": "execute_result"
    }
   ],
   "source": [
    "# 36. Find the frequency of each character in a string.\n",
    "\n",
    "#Code:-\n",
    "\n",
    "s = 'Discipline is the Key To Success'\n",
    "\n",
    "l = str(set(s))\n",
    "\n",
    "s.count(l[3])"
   ]
  },
  {
   "cell_type": "code",
   "execution_count": 8,
   "id": "5f1a6b7a-3607-4a42-8167-0c6b3b4dd2fd",
   "metadata": {},
   "outputs": [
    {
     "data": {
      "text/plain": [
       "'ZAMIN8 '"
      ]
     },
     "execution_count": 8,
     "metadata": {},
     "output_type": "execute_result"
    }
   ],
   "source": [
    "# 37. Remove all punctuation from a string.\n",
    "\n",
    "#Code:\n",
    "\n",
    "import string\n",
    "\n",
    "s = \"*#$&ZAMIN(*8 \"\n",
    "\n",
    "translator = str.maketrans('','', string.punctuation)\n",
    "\n",
    "cleaned_string = s.translate(translator)\n",
    "\n",
    "cleaned_string"
   ]
  },
  {
   "cell_type": "code",
   "execution_count": 41,
   "id": "295103ac-db97-4743-a529-0df766228807",
   "metadata": {},
   "outputs": [
    {
     "data": {
      "text/plain": [
       "False"
      ]
     },
     "execution_count": 41,
     "metadata": {},
     "output_type": "execute_result"
    }
   ],
   "source": [
    "# 38. Check if a string contains only digits.\n",
    "\n",
    "#Code:-\n",
    "\n",
    "s = \"12334\"\n",
    "\n",
    "s.isdigit()"
   ]
  },
  {
   "cell_type": "code",
   "execution_count": 44,
   "id": "5c5703e9-6e1b-45d7-929a-12c0797ae9e4",
   "metadata": {},
   "outputs": [
    {
     "data": {
      "text/plain": [
       "True"
      ]
     },
     "execution_count": 44,
     "metadata": {},
     "output_type": "execute_result"
    }
   ],
   "source": [
    "# 39. Check if a string contains only alphabets.\n",
    "\n",
    "#Code:\n",
    "\n",
    "s = \"MyisZaminAbbasBaloch\"\n",
    "\n",
    "\n",
    "s.isalpha()"
   ]
  },
  {
   "cell_type": "code",
   "execution_count": 46,
   "id": "eec41a3b-b06f-4292-a81a-29e5379cf8a1",
   "metadata": {},
   "outputs": [
    {
     "data": {
      "text/plain": [
       "['M',\n",
       " 'y',\n",
       " 'i',\n",
       " 's',\n",
       " 'Z',\n",
       " 'a',\n",
       " 'm',\n",
       " 'i',\n",
       " 'n',\n",
       " 'A',\n",
       " 'b',\n",
       " 'b',\n",
       " 'a',\n",
       " 's',\n",
       " 'B',\n",
       " 'a',\n",
       " 'l',\n",
       " 'o',\n",
       " 'c',\n",
       " 'h']"
      ]
     },
     "execution_count": 46,
     "metadata": {},
     "output_type": "execute_result"
    }
   ],
   "source": [
    "# 40. Convert a string to a list of characters.\n",
    "\n",
    "#Code:\n",
    "\n",
    "s = \"MyisZaminAbbasBaloch\"\n",
    "\n",
    "list(s)"
   ]
  },
  {
   "cell_type": "code",
   "execution_count": 1,
   "id": "6ea32584-66b1-47c3-aa53-ed4d15ace383",
   "metadata": {},
   "outputs": [
    {
     "data": {
      "text/plain": [
       "True"
      ]
     },
     "execution_count": 1,
     "metadata": {},
     "output_type": "execute_result"
    }
   ],
   "source": [
    "# 41. Check if two strings are anagrams.\n",
    "\n",
    "#Code:\n",
    "\n",
    "\n",
    "s1 = 'listen'\n",
    "\n",
    "s2 = 'silent'\n",
    "\n",
    "l1 = list(s1)\n",
    "\n",
    "l2 = list(s2)\n",
    "\n",
    "l1.sort()\n",
    "l2.sort()\n",
    "\n",
    "s1 = ''.join(l1)\n",
    "\n",
    "s2 = ''.join(l2)\n",
    "\n",
    "s1 == s2"
   ]
  },
  {
   "cell_type": "code",
   "execution_count": 8,
   "id": "0cf009b9-1530-41a2-9541-1a6b4e119655",
   "metadata": {},
   "outputs": [
    {
     "data": {
      "text/plain": [
       "']DPLQ'"
      ]
     },
     "execution_count": 8,
     "metadata": {},
     "output_type": "execute_result"
    }
   ],
   "source": [
    "# 42. Encode a string using a Caesar cipher.\n",
    "\n",
    "#Code:-\n",
    "\n",
    "s = \"ZAMIN\"\n",
    "\n",
    "l = list(map(ord,s))\n",
    "\n",
    "l = list(map(lambda x: x+3,l))\n",
    "\n",
    "l = list(map(lambda x: chr(x),l))\n",
    "\n",
    "s = ''.join(l)\n",
    "\n",
    "s"
   ]
  },
  {
   "cell_type": "code",
   "execution_count": 12,
   "id": "b07bf528-6ffb-4f9a-a5a8-637cfc922261",
   "metadata": {},
   "outputs": [
    {
     "data": {
      "text/plain": [
       "'ZAMIN'"
      ]
     },
     "execution_count": 12,
     "metadata": {},
     "output_type": "execute_result"
    }
   ],
   "source": [
    "# 43. Decode a Caesar cipher encoded string.\n",
    "\n",
    "#Code:-\n",
    "\n",
    "s = ']DPLQ'\n",
    "\n",
    "l = list(map(ord,s))\n",
    "\n",
    "l = list(map(lambda x: x-3,l))\n",
    "\n",
    "l = list(map(lambda x: chr(x), l))\n",
    "\n",
    "s = ''.join(l)\n",
    "\n",
    "s"
   ]
  },
  {
   "cell_type": "code",
   "execution_count": 10,
   "id": "13f4609d-52ae-4d89-af63-450b719c1434",
   "metadata": {},
   "outputs": [
    {
     "data": {
      "text/plain": [
       "'D'"
      ]
     },
     "execution_count": 10,
     "metadata": {},
     "output_type": "execute_result"
    }
   ],
   "source": [
    "# 44. Find the most frequent word in a string.\n",
    "\n",
    "#Code:-\n",
    "\n",
    "s = 'Discipline is the Key To Success'\n",
    "\n",
    "max(s, key = len)"
   ]
  },
  {
   "cell_type": "code",
   "execution_count": 14,
   "id": "7c87c135-83ff-46d6-bb53-58daa0bf329b",
   "metadata": {},
   "outputs": [
    {
     "data": {
      "text/plain": [
       "'To Success is Discipline the Key'"
      ]
     },
     "execution_count": 14,
     "metadata": {},
     "output_type": "execute_result"
    }
   ],
   "source": [
    "# 45. Find all unique words in a string.\n",
    "\n",
    "#Code:-\n",
    "\n",
    "s = 'Discipline is the Key To Success'\n",
    "\n",
    "l = s.split()\n",
    "\n",
    "l = set(l)\n",
    "\n",
    "s = ' '.join(l)\n",
    "\n",
    "s"
   ]
  },
  {
   "cell_type": "code",
   "execution_count": 82,
   "id": "4c65e47e-65e7-4b24-8925-757eb60dde89",
   "metadata": {},
   "outputs": [
    {
     "ename": "ModuleNotFoundError",
     "evalue": "No module named 'syllables'",
     "output_type": "error",
     "traceback": [
      "\u001b[0;31m---------------------------------------------------------------------------\u001b[0m",
      "\u001b[0;31mModuleNotFoundError\u001b[0m                       Traceback (most recent call last)",
      "Cell \u001b[0;32mIn[82], line 5\u001b[0m\n\u001b[1;32m      1\u001b[0m \u001b[38;5;66;03m# 46. Count the number of syllables in a string.\u001b[39;00m\n\u001b[1;32m      2\u001b[0m \n\u001b[1;32m      3\u001b[0m \u001b[38;5;66;03m#Code:-\u001b[39;00m\n\u001b[0;32m----> 5\u001b[0m \u001b[38;5;28;01mimport\u001b[39;00m \u001b[38;5;21;01msyllables\u001b[39;00m\n\u001b[1;32m      7\u001b[0m s \u001b[38;5;241m=\u001b[39m \u001b[38;5;124m'\u001b[39m\u001b[38;5;124mElephant\u001b[39m\u001b[38;5;124m'\u001b[39m\n\u001b[1;32m      9\u001b[0m s1 \u001b[38;5;241m=\u001b[39m syllable\u001b[38;5;241m.\u001b[39mestimate(s)\n",
      "\u001b[0;31mModuleNotFoundError\u001b[0m: No module named 'syllables'"
     ]
    }
   ],
   "source": [
    "# 46. Count the number of syllables in a string.\n",
    "\n",
    "#Code:-\n",
    "\n",
    "import re\n",
    "\n",
    "result = re.findall(r'[aeiouAeiouyY]+', s, s.IGNORECASE)\n",
    "\n"
   ]
  },
  {
   "cell_type": "code",
   "execution_count": 98,
   "id": "79d72a77-d920-405f-a541-90f721c8910a",
   "metadata": {},
   "outputs": [
    {
     "data": {
      "text/plain": [
       "'Discipline@ is the Key To Success'"
      ]
     },
     "execution_count": 98,
     "metadata": {},
     "output_type": "execute_result"
    }
   ],
   "source": [
    "# 47. Check if a string contains any special characters.\n",
    "\n",
    "#Code:-\n",
    "\n",
    "s = 'Discipline@ is the Key To234 Success'\n",
    "\n",
    "digit = filter(str.isdigit, s)\n",
    "\n",
    "removeDigits = ''.join(list(digit))\n",
    "\n",
    "s = s.replace(removeDigits,'')\n",
    "\n",
    "alpha = filter(str.isalpha, s)\n",
    "\n",
    "Alp = ''.join(list(alpha))\n",
    "\n",
    "s.replace('Alp','')"
   ]
  },
  {
   "cell_type": "code",
   "execution_count": 101,
   "id": "6739841d-9c9c-4ee3-aa37-c201f9e2ead2",
   "metadata": {},
   "outputs": [
    {
     "data": {
      "text/plain": [
       "'Discpline is the Key To Success'"
      ]
     },
     "execution_count": 101,
     "metadata": {},
     "output_type": "execute_result"
    }
   ],
   "source": [
    "# 48. Remove the nth word from a string.\n",
    "\n",
    "#Code:-\n",
    "\n",
    "s = 'Discipline is the Key To Success'\n",
    "\n",
    "l = list(s)\n",
    "\n",
    "l[4] = ''\n",
    "\n",
    "s = ''.join(l)\n",
    "\n",
    "s"
   ]
  },
  {
   "cell_type": "code",
   "execution_count": 92,
   "id": "06d71c60-a6ee-44c6-bcca-006a9020b261",
   "metadata": {},
   "outputs": [
    {
     "data": {
      "text/plain": [
       "'Diszcipline is the Key To Success'"
      ]
     },
     "execution_count": 92,
     "metadata": {},
     "output_type": "execute_result"
    }
   ],
   "source": [
    "# 49. Insert a word at the nth position in a string.\n",
    "\n",
    "#Code:-\n",
    "\n",
    "s = 'Discipline is the Key To Success'\n",
    "\n",
    "l = list(s)\n",
    "\n",
    "l.insert(3,'z')\n",
    "\n",
    "s = ''.join(l)\n",
    "\n",
    "s"
   ]
  },
  {
   "cell_type": "code",
   "execution_count": 40,
   "id": "104ab157-9fff-47f2-aff8-7065a5e372ea",
   "metadata": {},
   "outputs": [
    {
     "data": {
      "text/plain": [
       "[['Name, Age, Country'],\n",
       " ['John, 25, USA'],\n",
       " ['Alice, 30, Canada'],\n",
       " ['Bob, 22, UK']]"
      ]
     },
     "execution_count": 40,
     "metadata": {},
     "output_type": "execute_result"
    }
   ],
   "source": [
    "# 50. Convert a CSV string to a list of lists.\n",
    "\n",
    "#Code:-\n",
    "\n",
    "s = \"Name, Age, Country\\nJohn, 25, USA\\nAlice, 30, Canada\\nBob, 22, UK\"\n",
    "\n",
    "l = list(map(list,s.split('\\n')))\n",
    "\n",
    "for i in range(0,len(l)):\n",
    "    l[i] = [''.join(l[i])]\n",
    "    \n",
    "l"
   ]
  },
  {
   "cell_type": "code",
   "execution_count": 9,
   "id": "8b5cc211-b01f-4444-941b-7b9645a0ad7d",
   "metadata": {},
   "outputs": [],
   "source": [
    "#*****************************************************************************#\n",
    "#***********************'''''LIST PRACTICE QUESTION'''''**********************#\n",
    "#*****************************************************************************#"
   ]
  },
  {
   "cell_type": "code",
   "execution_count": 26,
   "id": "bd0ea823-360f-4366-aef4-67870285ede0",
   "metadata": {},
   "outputs": [
    {
     "data": {
      "text/plain": [
       "[1, 2, 3, 4, 5, 6, 7, 10, 8, 9, 10]"
      ]
     },
     "execution_count": 26,
     "metadata": {},
     "output_type": "execute_result"
    }
   ],
   "source": [
    "# 1. Create a list with integers from 1 to 10.\n",
    "\n",
    "#Code:-\n",
    "\n",
    "l = [1,2,3,4,5,6,7,10,8,9,10]\n",
    "\n",
    "l"
   ]
  },
  {
   "cell_type": "code",
   "execution_count": 67,
   "id": "cc978499-bfd9-43b4-b953-96c2e2996a5a",
   "metadata": {},
   "outputs": [
    {
     "data": {
      "text/plain": [
       "[1, 2, 3, 4, 5, 6, 7, 10, 8, 9, 10]"
      ]
     },
     "execution_count": 67,
     "metadata": {},
     "output_type": "execute_result"
    }
   ],
   "source": [
    "# 2. Find the length of a list without using the `len()` function.\n",
    "\n",
    "#Code:-\n",
    "\n",
    "l = [1,2,3,4,5,6,7,10,8,9,10]\n",
    "\n",
    "l"
   ]
  },
  {
   "cell_type": "code",
   "execution_count": 70,
   "id": "4107c2b0-f8af-443f-812e-f59b5594a643",
   "metadata": {},
   "outputs": [
    {
     "data": {
      "text/plain": [
       "[1, 2, 3, 4, 5, 6, 7, 10, 8, 9, 10, 11]"
      ]
     },
     "execution_count": 70,
     "metadata": {},
     "output_type": "execute_result"
    }
   ],
   "source": [
    "# 3. Append an element to the end of a list.\n",
    "\n",
    "#Code:-\n",
    "\n",
    "l = [1,2,3,4,5,6,7,10,8,9,10]\n",
    "\n",
    "l.append(11)\n",
    "\n",
    "l"
   ]
  },
  {
   "cell_type": "code",
   "execution_count": 72,
   "id": "ec596df7-ce1c-4920-8b1a-f06057d08160",
   "metadata": {},
   "outputs": [
    {
     "data": {
      "text/plain": [
       "[1, 2, 3, 5, 4, 5, 6, 7, 10, 8, 9, 10]"
      ]
     },
     "execution_count": 72,
     "metadata": {},
     "output_type": "execute_result"
    }
   ],
   "source": [
    "# 4. Insert an element at a specific index in a list.\n",
    "\n",
    "#Code:-\n",
    "\n",
    "l = [1,2,3,4,5,6,7,10,8,9,10]\n",
    "\n",
    "l.insert(3,5)\n",
    "\n",
    "l"
   ]
  },
  {
   "cell_type": "code",
   "execution_count": 74,
   "id": "8571754e-a827-4f35-9ba3-905437a797ba",
   "metadata": {},
   "outputs": [
    {
     "data": {
      "text/plain": [
       "[1, 2, 4, 5, 6, 7, 10, 8, 9, 10]"
      ]
     },
     "execution_count": 74,
     "metadata": {},
     "output_type": "execute_result"
    }
   ],
   "source": [
    "# 5. Remove an element from a list by its value.\n",
    "\n",
    "#Code:-\n",
    "\n",
    "l = [1,2,3,4,5,6,7,10,8,9,10]\n",
    "\n",
    "l.remove(3)\n",
    "\n",
    "l"
   ]
  },
  {
   "cell_type": "code",
   "execution_count": 75,
   "id": "251255f9-de96-467c-a7d7-22f112af2669",
   "metadata": {},
   "outputs": [],
   "source": [
    "# 6. Remove an element from a list by its index.\n",
    "\n",
    "#Code:-\n",
    "\n",
    "l = [1,2,3,4,5,6,7,10,8,9,10]\n",
    "\n",
    "l.\n"
   ]
  },
  {
   "cell_type": "code",
   "execution_count": 8,
   "id": "d35919d9-1b72-4ed4-a0ca-7f74eda34f7c",
   "metadata": {},
   "outputs": [
    {
     "data": {
      "text/plain": [
       "True"
      ]
     },
     "execution_count": 8,
     "metadata": {},
     "output_type": "execute_result"
    }
   ],
   "source": [
    "# 7. Check if an element exists in a list.\n",
    "\n",
    "#Code:-\n",
    "\n",
    "l = [1,2,3,4,5,6,7,10,8,9,10]\n",
    "\n",
    "l.count(2) > 0"
   ]
  },
  {
   "cell_type": "code",
   "execution_count": 10,
   "id": "ba43bfe4-bae7-4f73-8893-06b9d9471c7d",
   "metadata": {},
   "outputs": [
    {
     "data": {
      "text/plain": [
       "7"
      ]
     },
     "execution_count": 10,
     "metadata": {},
     "output_type": "execute_result"
    }
   ],
   "source": [
    "# 8. Find the index of the first occurrence of an element in a list.\n",
    "\n",
    "#Code:-\n",
    "\n",
    "\n",
    "l = [1,2,3,4,5,6,7,10,8,9,10]\n",
    "\n",
    "l.index(10)"
   ]
  },
  {
   "cell_type": "code",
   "execution_count": 12,
   "id": "04985d71-3101-4437-8107-51cd5293f397",
   "metadata": {},
   "outputs": [
    {
     "data": {
      "text/plain": [
       "2"
      ]
     },
     "execution_count": 12,
     "metadata": {},
     "output_type": "execute_result"
    }
   ],
   "source": [
    "# 9. Count the occurrences of an element in a list.\n",
    "\n",
    "#Code:-\n",
    "\n",
    "l = [1,2,3,4,5,6,7,10,8,9,10]\n",
    "\n",
    "l.count(10)"
   ]
  },
  {
   "cell_type": "code",
   "execution_count": 38,
   "id": "f4dd7430-2236-4cb7-91ac-accad2e16746",
   "metadata": {},
   "outputs": [],
   "source": [
    "# 10. Reverse the order of elements in a list.\n",
    "\n",
    "#Code:-\n",
    "\n",
    "l = [1,2,3,4,5,6,7,10,8,9,10]\n",
    "\n",
    "l.reverse()"
   ]
  },
  {
   "cell_type": "code",
   "execution_count": 3,
   "id": "ec463578-ccc0-4082-b07c-a1e3d6d3ce15",
   "metadata": {},
   "outputs": [
    {
     "data": {
      "text/plain": [
       "[1, 2, 3, 4, 5, 6, 7, 8, 9, 10, 10]"
      ]
     },
     "execution_count": 3,
     "metadata": {},
     "output_type": "execute_result"
    }
   ],
   "source": [
    "# 11. Sort a list in ascending order.\n",
    "\n",
    "#Code:-\n",
    "\n",
    "l = [1,2,3,4,5,6,7,10,8,9,10]\n",
    "\n",
    "l.sort()\n",
    "\n",
    "l"
   ]
  },
  {
   "cell_type": "code",
   "execution_count": 5,
   "id": "2caf383a-0009-4f68-95ba-11b27f43660f",
   "metadata": {},
   "outputs": [
    {
     "data": {
      "text/plain": [
       "[10, 10, 9, 8, 7, 6, 5, 4, 3, 2, 1]"
      ]
     },
     "execution_count": 5,
     "metadata": {},
     "output_type": "execute_result"
    }
   ],
   "source": [
    "# 12. Sort a list in descending order.\n",
    "\n",
    "#Code:-\n",
    "\n",
    "l = [1,2,3,4,5,6,7,10,8,9,10]\n",
    "\n",
    "l.sort(reverse = True)\n",
    "\n",
    "l"
   ]
  },
  {
   "cell_type": "code",
   "execution_count": 43,
   "id": "229627fc-6aff-4324-9a00-5bda4d69f145",
   "metadata": {},
   "outputs": [
    {
     "data": {
      "text/plain": [
       "[2, 4, 6, 8, 10, 12, 14, 16, 18, 20]"
      ]
     },
     "execution_count": 43,
     "metadata": {},
     "output_type": "execute_result"
    }
   ],
   "source": [
    "# 13. Create a list of even numbers from 1 to 20.\n",
    "\n",
    "#Code:-\n",
    "\n",
    "l = list(filter(lambda x: x%2==0, range(1,21)))\n",
    "\n",
    "l"
   ]
  },
  {
   "cell_type": "code",
   "execution_count": 44,
   "id": "4ca5ecb6-fdd8-44cd-b87f-570a97fb9766",
   "metadata": {},
   "outputs": [
    {
     "data": {
      "text/plain": [
       "[1, 3, 5, 7, 9, 11, 13, 15, 17, 19]"
      ]
     },
     "execution_count": 44,
     "metadata": {},
     "output_type": "execute_result"
    }
   ],
   "source": [
    "# 14. Create a list of odd numbers from 1 to 20.\n",
    "\n",
    "#Code:-\n",
    "\n",
    "l = list(filter(lambda x: x%2, range(1,21)))\n",
    "\n",
    "l"
   ]
  },
  {
   "cell_type": "code",
   "execution_count": 49,
   "id": "3f21fdc7-d4b1-4fad-aa0d-43588a49dd04",
   "metadata": {},
   "outputs": [
    {
     "data": {
      "text/plain": [
       "100"
      ]
     },
     "execution_count": 49,
     "metadata": {},
     "output_type": "execute_result"
    }
   ],
   "source": [
    "# 15. Find the sum of all elements in a list.\n",
    "\n",
    "#Code:-\n",
    "\n",
    "from functools import reduce\n",
    "\n",
    "l = [1,3,5,7,9,11,13,15,17,19]\n",
    "\n",
    "sum = reduce(lambda a,b: a+b, l)\n",
    "\n",
    "sum"
   ]
  },
  {
   "cell_type": "code",
   "execution_count": 62,
   "id": "cc41c4ab-c358-42ef-a170-a2e7cca5835b",
   "metadata": {},
   "outputs": [
    {
     "data": {
      "text/plain": [
       "19"
      ]
     },
     "execution_count": 62,
     "metadata": {},
     "output_type": "execute_result"
    }
   ],
   "source": [
    "# 16. Find the maximum value in a list.\n",
    "\n",
    "#Code:-\n",
    "\n",
    "l = [1,3,5,7,9,11,13,15,17,19]\n",
    "\n",
    "max(l)"
   ]
  },
  {
   "cell_type": "code",
   "execution_count": 60,
   "id": "8128cdc0-9371-4682-9c25-e8fabe606f11",
   "metadata": {},
   "outputs": [
    {
     "data": {
      "text/plain": [
       "1"
      ]
     },
     "execution_count": 60,
     "metadata": {},
     "output_type": "execute_result"
    }
   ],
   "source": [
    "# 17. Find the minimum value in a list.\n",
    "\n",
    "#Code:-\n",
    "\n",
    "l = [1,3,5,7,9,11,13,15,17,19]\n",
    "\n",
    "min(l)"
   ]
  },
  {
   "cell_type": "code",
   "execution_count": 50,
   "id": "92796dd0-719a-4a1a-9cd1-49dd953cc9a9",
   "metadata": {},
   "outputs": [
    {
     "data": {
      "text/plain": [
       "[1, 4, 9, 16, 25, 36, 49, 64, 81, 100]"
      ]
     },
     "execution_count": 50,
     "metadata": {},
     "output_type": "execute_result"
    }
   ],
   "source": [
    "# 18. Create a list of squares of numbers from 1 to 10.\n",
    "\n",
    "#Code:-\n",
    "\n",
    "l = list(map(lambda x: x*x, range(1,11)))\n",
    "\n",
    "l"
   ]
  },
  {
   "cell_type": "code",
   "execution_count": 53,
   "id": "d076d3f3-5e68-4e24-9164-a77b170f611b",
   "metadata": {},
   "outputs": [
    {
     "data": {
      "text/plain": [
       "[73, 89, 20, 95, 99, 47, 34, 69, 97, 3]"
      ]
     },
     "execution_count": 53,
     "metadata": {},
     "output_type": "execute_result"
    }
   ],
   "source": [
    "# 19. Create a list of random numbers.\n",
    "\n",
    "#Code:-\n",
    "\n",
    "import random\n",
    "\n",
    "l = random.sample(range(1,100),10)\n",
    "\n",
    "l"
   ]
  },
  {
   "cell_type": "code",
   "execution_count": 69,
   "id": "5ee04dcb-9bd3-4a68-8cc3-c0c6aea4a8fc",
   "metadata": {},
   "outputs": [
    {
     "data": {
      "text/plain": [
       "[0, 1, 33, 3, 4, 5, 6, 7, 54]"
      ]
     },
     "execution_count": 69,
     "metadata": {},
     "output_type": "execute_result"
    }
   ],
   "source": [
    "# 20. Remove duplicates from a list.\n",
    "\n",
    "#Code:-\n",
    "\n",
    "l = [1,4,5,0,6,7,33,4,3,54,5]\n",
    "\n",
    "list(set(l))"
   ]
  },
  {
   "cell_type": "code",
   "execution_count": 12,
   "id": "4e6fa104-a5d5-4903-a78b-83b0d0f2ea39",
   "metadata": {},
   "outputs": [
    {
     "data": {
      "text/plain": [
       "[1, 3, 5, 7]"
      ]
     },
     "execution_count": 12,
     "metadata": {},
     "output_type": "execute_result"
    }
   ],
   "source": [
    "# 21. Find the common elements between two lists.\n",
    "\n",
    "l1 = [1,3,5,7,9,11,13,15,17,19]\n",
    "\n",
    "l2 = [1,4,5,0,6,7,33,4,3,54,5]\n",
    "\n",
    "\n",
    "set1 = set(l1)\n",
    "\n",
    "set2 = set(l2)\n",
    "\n",
    "list(set1.intersection(set2))"
   ]
  },
  {
   "cell_type": "code",
   "execution_count": 14,
   "id": "c0accd71-f426-48a3-83f6-00517fdb3e68",
   "metadata": {},
   "outputs": [
    {
     "data": {
      "text/plain": [
       "[9, 11, 13, 15, 17, 19, 0, 33, 4, 6, 54]"
      ]
     },
     "execution_count": 14,
     "metadata": {},
     "output_type": "execute_result"
    }
   ],
   "source": [
    "# 22. Find the difference between two lists.\n",
    "\n",
    "#Code:-\n",
    "\n",
    "l1 = [1,3,5,7,9,11,13,15,17,19]\n",
    "\n",
    "l2 = [1,4,5,0,6,7,33,4,3,54,5]\n",
    "\n",
    "set1 = set(l1)\n",
    "\n",
    "set2 = set(l2)\n",
    "\n",
    "l1 = list(set1.difference(set2))\n",
    "\n",
    "l2 = list(set2.difference(set1))\n",
    "\n",
    "l1 + l2"
   ]
  },
  {
   "cell_type": "code",
   "execution_count": 11,
   "id": "bcf60c12-b1ee-4c78-b828-fcbe224af6b7",
   "metadata": {},
   "outputs": [
    {
     "data": {
      "text/plain": [
       "[1, 3, 5, 7, 9, 11, 13, 15, 17, 19, 1, 4, 5, 0, 6, 7, 33, 4, 3, 54, 5]"
      ]
     },
     "execution_count": 11,
     "metadata": {},
     "output_type": "execute_result"
    }
   ],
   "source": [
    "# 23. Merge two lists.\n",
    "\n",
    "#Code:-\n",
    "\n",
    "l1 = [1,3,5,7,9,11,13,15,17,19]\n",
    "\n",
    "l2 = [1,4,5,0,6,7,33,4,3,54,5]\n",
    "\n",
    "l1 + l2"
   ]
  },
  {
   "cell_type": "code",
   "execution_count": 54,
   "id": "5e9d99f6-dc28-4011-b7c7-fecd7e6d586e",
   "metadata": {},
   "outputs": [
    {
     "data": {
      "text/plain": [
       "[2, 6, 10, 14, 18, 22, 26, 30, 34, 38]"
      ]
     },
     "execution_count": 54,
     "metadata": {},
     "output_type": "execute_result"
    }
   ],
   "source": [
    "# 24. Multiply all elements in a list by 2.\n",
    "\n",
    "#Code:-\n",
    "\n",
    "l = [1,3,5,7,9,11,13,15,17,19]\n",
    "\n",
    "result = list(map(lambda x: x*2, l))\n",
    "\n",
    "result"
   ]
  },
  {
   "cell_type": "code",
   "execution_count": 18,
   "id": "3f204321-f8bf-4e34-8d47-8b324ae750b0",
   "metadata": {},
   "outputs": [
    {
     "data": {
      "text/plain": [
       "[4, 6, 8, 0]"
      ]
     },
     "execution_count": 18,
     "metadata": {},
     "output_type": "execute_result"
    }
   ],
   "source": [
    "# 25. Filter out all even numbers from a list.\n",
    "\n",
    "#Code:-\n",
    "\n",
    "numbers = [1,4,5,6,7,77,8,0,9]\n",
    "\n",
    "filtered_numbers = filter(lambda x: x%2 == 0, numbers)\n",
    "\n",
    "list(filtered_numbers)"
   ]
  },
  {
   "cell_type": "code",
   "execution_count": 31,
   "id": "afa7722d-9676-484e-8e50-951992c308c0",
   "metadata": {},
   "outputs": [
    {
     "data": {
      "text/plain": [
       "[1, 2, 3, 4, 5, 6, 7, 8, 9, 10]"
      ]
     },
     "execution_count": 31,
     "metadata": {},
     "output_type": "execute_result"
    }
   ],
   "source": [
    "# 26. Convert a list of strings to a list of integers.\n",
    "\n",
    "#Code:-\n",
    "\n",
    "l = ['1','2','3','4','5','6','7','8','9','10']\n",
    "\n",
    "s = list(map(int,l))\n",
    "\n",
    "s"
   ]
  },
  {
   "cell_type": "code",
   "execution_count": 34,
   "id": "77e9906b-684e-4f32-98fa-b1186f1f50ba",
   "metadata": {},
   "outputs": [
    {
     "data": {
      "text/plain": [
       "['1', '4', '5', '6', '7', '77', '8', '0', '9']"
      ]
     },
     "execution_count": 34,
     "metadata": {},
     "output_type": "execute_result"
    }
   ],
   "source": [
    "# 27. Convert a list of integers to a list of strings.\n",
    "\n",
    "#Code:-\n",
    "\n",
    "l = [1,4,5,6,7,77,8,0,9]\n",
    "\n",
    "s = list(map(str,l))\n",
    "\n",
    "s"
   ]
  },
  {
   "cell_type": "code",
   "execution_count": 70,
   "id": "e8233931-a430-4a3a-b1cc-f67a2cd52790",
   "metadata": {},
   "outputs": [
    {
     "data": {
      "text/plain": [
       "[1, 2, 3, 4, 3, 4, 5, 5]"
      ]
     },
     "execution_count": 70,
     "metadata": {},
     "output_type": "execute_result"
    }
   ],
   "source": [
    "# 28. Flatten a nested list.\n",
    "\n",
    "#Code:-\n",
    "\n",
    "l = [1,2,3,4,[3,4,5,5]]\n",
    "\n",
    "l2 = (str(l).replace('[','').replace(']','')).split(',')\n",
    "\n",
    "l = list(map(int,l2))\n",
    "\n",
    "l"
   ]
  },
  {
   "cell_type": "code",
   "execution_count": 41,
   "id": "dc0d49d2-85cc-4fc7-ac1b-81cb2909f27c",
   "metadata": {},
   "outputs": [
    {
     "data": {
      "text/plain": [
       "[0, 1, 1, 2, 3, 5, 8, 13, 21, 34]"
      ]
     },
     "execution_count": 41,
     "metadata": {},
     "output_type": "execute_result"
    }
   ],
   "source": [
    "# 29. Create a list of the first 10 Fibonacci numbers.\n",
    "\n",
    "#Code:-\n",
    "\n",
    "l = [0,1,1,2,3,5,8,13,21,34]\n",
    "\n",
    "l"
   ]
  },
  {
   "cell_type": "code",
   "execution_count": 77,
   "id": "fabbca8d-544d-4fd4-97d8-a6f96f1ef614",
   "metadata": {},
   "outputs": [
    {
     "data": {
      "text/plain": [
       "False"
      ]
     },
     "execution_count": 77,
     "metadata": {},
     "output_type": "execute_result"
    }
   ],
   "source": [
    "# 30. Check if a list is sorted.\n",
    "\n",
    "#Code:-\n",
    "\n",
    "l1 = [0,1,1,2,3,5,8,13,21,34]\n",
    "\n",
    "l2 = l1.sort()\n",
    "\n",
    "l2 == l1"
   ]
  },
  {
   "cell_type": "code",
   "execution_count": 98,
   "id": "3cd5d84e-bf29-47f6-ba27-be960a53765e",
   "metadata": {},
   "outputs": [
    {
     "data": {
      "text/plain": [
       "[5, 3, 2, 1, 1, 0, 8, 13, 21, 34]"
      ]
     },
     "execution_count": 98,
     "metadata": {},
     "output_type": "execute_result"
    }
   ],
   "source": [
    "# 31. Rotate a list to the left by `n` positions.\n",
    "\n",
    "#Code:-\n",
    "\n",
    "n = 5\n",
    "\n",
    "l = [0,1,1,2,3,5,8,13,21,34]\n",
    "\n",
    "l1 = l[n::-1]\n",
    "\n",
    "l1.extend(l[n+1::])\n",
    "\n",
    "l = l1\n",
    "\n",
    "l"
   ]
  },
  {
   "cell_type": "code",
   "execution_count": 100,
   "id": "1801e0cd-4bc0-4d56-ad3c-871ea178dda3",
   "metadata": {},
   "outputs": [
    {
     "data": {
      "text/plain": [
       "[0, 1, 1, 2, 3, 34, 21, 13, 8, 5]"
      ]
     },
     "execution_count": 100,
     "metadata": {},
     "output_type": "execute_result"
    }
   ],
   "source": [
    "# 32. Rotate a list to the right by `n` positions.\n",
    "\n",
    "n = 4\n",
    "\n",
    "l = [0,1,1,2,3,5,8,13,21,34]\n",
    "\n",
    "l1 = l[0:n+1]\n",
    "\n",
    "l1.extend(l[:n:-1])\n",
    "\n",
    "l = l1\n",
    "\n",
    "l"
   ]
  },
  {
   "cell_type": "code",
   "execution_count": 102,
   "id": "7825b0a5-a787-4b6b-b0f6-5332086a89c8",
   "metadata": {},
   "outputs": [
    {
     "data": {
      "text/plain": [
       "[2,\n",
       " 3,\n",
       " 5,\n",
       " 7,\n",
       " 11,\n",
       " 13,\n",
       " 17,\n",
       " 19,\n",
       " 23,\n",
       " 29,\n",
       " 31,\n",
       " 37,\n",
       " 41,\n",
       " 43,\n",
       " 47,\n",
       " 53,\n",
       " 59,\n",
       " 61,\n",
       " 67,\n",
       " 71,\n",
       " 73,\n",
       " 79,\n",
       " 83,\n",
       " 89,\n",
       " 97,\n",
       " 101,\n",
       " 103,\n",
       " 107,\n",
       " 109,\n",
       " 113,\n",
       " 127,\n",
       " 131,\n",
       " 137,\n",
       " 139,\n",
       " 149,\n",
       " 151,\n",
       " 157,\n",
       " 163,\n",
       " 167,\n",
       " 173,\n",
       " 179,\n",
       " 181,\n",
       " 191,\n",
       " 193,\n",
       " 197,\n",
       " 199,\n",
       " 211,\n",
       " 223,\n",
       " 227,\n",
       " 229]"
      ]
     },
     "execution_count": 102,
     "metadata": {},
     "output_type": "execute_result"
    }
   ],
   "source": [
    "# 33. Create a list of prime numbers up to 50.\n",
    "\n",
    "#Code:-\n",
    "\n",
    "l = [2, 3, 5, 7, 11, 13, 17, 19, 23, 29, \n",
    "31, 37, 41, 43, 47, 53, 59, 61, 67, 71, \n",
    "73, 79, 83, 89, 97, 101, 103, 107, 109, 113, \n",
    "127, 131, 137, 139, 149, 151, 157, 163, 167, 173, \n",
    "179, 181, 191, 193, 197, 199, 211, 223, 227, 229]\n",
    "\n",
    "l"
   ]
  },
  {
   "cell_type": "code",
   "execution_count": 106,
   "id": "17592bb0-772b-4fec-879e-13155f14b27b",
   "metadata": {},
   "outputs": [
    {
     "data": {
      "text/plain": [
       "[1, 4, 5, 6, 7, 77, 8, 0, 9]"
      ]
     },
     "execution_count": 106,
     "metadata": {},
     "output_type": "execute_result"
    }
   ],
   "source": [
    "# 34. Split a list into chunks of size `n`.\n",
    "\n",
    "#Code:-\n",
    "\n",
    "l = [1,4,5,6,7,77,8,0,9]\n",
    "\n",
    "l"
   ]
  },
  {
   "cell_type": "code",
   "execution_count": 117,
   "id": "0335aa23-45a1-4977-bab4-71c749eb4c6a",
   "metadata": {},
   "outputs": [
    {
     "data": {
      "text/plain": [
       "9"
      ]
     },
     "execution_count": 117,
     "metadata": {},
     "output_type": "execute_result"
    }
   ],
   "source": [
    "# 35. Find the second largest number in a list.\n",
    "\n",
    "#Code:-\n",
    "\n",
    "l = [1,4,5,6,7,77,8,0,9]\n",
    "\n",
    "maxElement = max(l)\n",
    "\n",
    "l1 = l\n",
    "\n",
    "l1.remove(maxElement)\n",
    "\n",
    "max(l1)"
   ]
  },
  {
   "cell_type": "code",
   "execution_count": 1,
   "id": "49515f61-1219-4358-9907-a8dfd02fe909",
   "metadata": {},
   "outputs": [
    {
     "data": {
      "text/plain": [
       "[1, 16, 25, 36, 49, 5929, 64, 0, 81]"
      ]
     },
     "execution_count": 1,
     "metadata": {},
     "output_type": "execute_result"
    }
   ],
   "source": [
    "# 36. Replace every element in a list with its square.\n",
    "\n",
    "#Code:-\n",
    "\n",
    "l = [1,4,5,6,7,77,8,0,9]\n",
    "\n",
    "square_list = [x**2 for x in l]\n",
    "\n",
    "square_list"
   ]
  },
  {
   "cell_type": "code",
   "execution_count": 2,
   "id": "cbca000c-99c9-4619-bb69-3e7d881cad85",
   "metadata": {},
   "outputs": [
    {
     "data": {
      "text/plain": [
       "[1, 4, 5, 6, 7, 77, 8, 0, 9]"
      ]
     },
     "execution_count": 2,
     "metadata": {},
     "output_type": "execute_result"
    }
   ],
   "source": [
    "# 37. Convert a list to a dictionary where list elements become keys and their indices become values.\n",
    "\n",
    "#Code:-\n",
    "\n",
    "my_list = [\"apple\", \"banana\", \"cherry\", \"date\"]\n",
    "\n"
   ]
  },
  {
   "cell_type": "code",
   "execution_count": 8,
   "id": "387588af-a44d-48e0-8fbf-fc0831d47e88",
   "metadata": {},
   "outputs": [
    {
     "data": {
      "text/plain": [
       "{1: 0, 4: 1, 5: 2, 6: 3, 7: 4, 77: 5, 8: 6, 0: 7, 9: 8}"
      ]
     },
     "execution_count": 8,
     "metadata": {},
     "output_type": "execute_result"
    }
   ],
   "source": [
    "# 38. Shuffle the elements of a list randomly.\n",
    "\n",
    "#Code:-\n",
    "\n",
    "l = [1,4,5,6,7,77,8,0,9]\n",
    "\n",
    "pairs = list(map(lambda x: (x[1], x[0]), enumerate(l)))\n",
    "\n",
    "\n",
    "dic = dict(pairs)\n",
    "\n",
    "dic"
   ]
  },
  {
   "cell_type": "code",
   "execution_count": 13,
   "id": "7aef74a9-78b1-4daa-8fc8-e952a960b41e",
   "metadata": {},
   "outputs": [
    {
     "data": {
      "text/plain": [
       "[1, 1, 2, 6, 24, 120, 720, 5040, 40320, 362880]"
      ]
     },
     "execution_count": 13,
     "metadata": {},
     "output_type": "execute_result"
    }
   ],
   "source": [
    "# 39. Create a list of the first 10 factorial numbers.\n",
    "\n",
    "#Code:-\n",
    "\n",
    "import math\n",
    "\n",
    "factorial_numbers = [math.factorial(i) for i in range(10)]\n",
    "\n",
    "factorial_numbers"
   ]
  },
  {
   "cell_type": "code",
   "execution_count": 19,
   "id": "ac011800-0e95-475e-bd87-acd93935c3f4",
   "metadata": {},
   "outputs": [
    {
     "data": {
      "text/plain": [
       "True"
      ]
     },
     "execution_count": 19,
     "metadata": {},
     "output_type": "execute_result"
    }
   ],
   "source": [
    "# 40. Check if two lists have at least one element in common.\n",
    "\n",
    "#Code:-\n",
    "\n",
    "l1 = [1,2,3,4,5,6,7,8,2,9,10]\n",
    "\n",
    "l2 = [11,12,13,14,1,16,17,18,19,20]\n",
    "\n",
    "set1 = set(l1)\n",
    "\n",
    "set2 = set(l2)\n",
    "\n",
    "l1 = list(set1.intersection(set2))\n",
    "\n",
    "l2 = list(set2.intersection(set1))\n",
    "\n",
    "len(l1 + l2) > 0 "
   ]
  },
  {
   "cell_type": "code",
   "execution_count": 131,
   "id": "a548fecf-469c-42e5-894d-8fc25258c2b5",
   "metadata": {},
   "outputs": [
    {
     "data": {
      "text/plain": [
       "[]"
      ]
     },
     "execution_count": 131,
     "metadata": {},
     "output_type": "execute_result"
    }
   ],
   "source": [
    "# 41. Remove all elements from a list.\n",
    "\n",
    "#Code:-\n",
    "\n",
    "l = [1,4,5,6,7,77,8,0,9]\n",
    "\n",
    "l.clear()\n",
    "\n",
    "l"
   ]
  },
  {
   "cell_type": "code",
   "execution_count": 11,
   "id": "8b46e643-7a64-4043-98cc-c6cef31ea677",
   "metadata": {},
   "outputs": [
    {
     "data": {
      "text/plain": [
       "[1, 0, 0, 0, 0, 77, 8, 0, 0]"
      ]
     },
     "execution_count": 11,
     "metadata": {},
     "output_type": "execute_result"
    }
   ],
   "source": [
    "# 42. Replace negative numbers in a list with 0.\n",
    "\n",
    "#Code:-\n",
    "\n",
    "l = [1,-4,-5,-6,-7,77,8,0,-9]\n",
    "\n",
    "modified_list = [x if x>=0 else 0 for x in l]\n",
    "\n",
    "modified_list"
   ]
  },
  {
   "cell_type": "code",
   "execution_count": 140,
   "id": "733a736c-a7c0-4908-859a-d522c2784335",
   "metadata": {},
   "outputs": [
    {
     "data": {
      "text/plain": [
       "['Z',\n",
       " 'A',\n",
       " 'M',\n",
       " 'I',\n",
       " 'N',\n",
       " ' ',\n",
       " 'A',\n",
       " 'B',\n",
       " 'B',\n",
       " 'A',\n",
       " 'S',\n",
       " ' ',\n",
       " 'K',\n",
       " 'H',\n",
       " 'A',\n",
       " 'N']"
      ]
     },
     "execution_count": 140,
     "metadata": {},
     "output_type": "execute_result"
    }
   ],
   "source": [
    "# 43. Convert a string into a list of words.\n",
    "\n",
    "#Code:-\n",
    "\n",
    "s = \"ZAMIN ABBAS KHAN\"\n",
    "\n",
    "list(s)"
   ]
  },
  {
   "cell_type": "code",
   "execution_count": 143,
   "id": "d4ef74c0-a842-480c-a89b-0001ee45df65",
   "metadata": {},
   "outputs": [
    {
     "data": {
      "text/plain": [
       "'ZAMIN ABBAS KHAN'"
      ]
     },
     "execution_count": 143,
     "metadata": {},
     "output_type": "execute_result"
    }
   ],
   "source": [
    "# 44. Convert a list of words into a string.\n",
    "\n",
    "l = ['Z','A','M','I','N',' ','A','B','B', 'A', 'S', ' ', 'K', 'H', 'A', 'N']\n",
    "\n",
    "s = ''.join(l)\n",
    "\n",
    "s"
   ]
  },
  {
   "cell_type": "code",
   "execution_count": 5,
   "id": "05af3881-7628-49e8-824e-2945263a5ff0",
   "metadata": {},
   "outputs": [
    {
     "data": {
      "text/plain": [
       "[1, 2, 4, 8, 16, 32, 64, 128, 256, 512]"
      ]
     },
     "execution_count": 5,
     "metadata": {},
     "output_type": "execute_result"
    }
   ],
   "source": [
    "# 45. Create a list of the first `n` powers of 2.\n",
    "\n",
    "#Code:-\n",
    "\n",
    "n = 10\n",
    "\n",
    "l = [2 ** i for i in range(n)]\n",
    "\n",
    "l"
   ]
  },
  {
   "cell_type": "code",
   "execution_count": 149,
   "id": "8500f588-0fe0-4519-a515-cd42cd30cc43",
   "metadata": {},
   "outputs": [
    {
     "data": {
      "text/plain": [
       "'ABBASss'"
      ]
     },
     "execution_count": 149,
     "metadata": {},
     "output_type": "execute_result"
    }
   ],
   "source": [
    "# 46. Find the longest string in a list of strings.\n",
    "\n",
    "#Code:-\n",
    "\n",
    "l = [\"ZAMIN\",\"RAZA\",\"ABBASss\"]\n",
    "\n",
    "max(l,key = len)"
   ]
  },
  {
   "cell_type": "code",
   "execution_count": 150,
   "id": "dc3be366-3c5d-4286-b19d-4f41d9ffea46",
   "metadata": {},
   "outputs": [
    {
     "data": {
      "text/plain": [
       "'RAZA'"
      ]
     },
     "execution_count": 150,
     "metadata": {},
     "output_type": "execute_result"
    }
   ],
   "source": [
    "# 47. Find the shortest string in a list of strings.\n",
    "\n",
    "#Code:-\n",
    "\n",
    "l = [\"ZAMIN\",\"RAZA\",\"ABBASss\"]\n",
    "\n",
    "min(l,key=len)"
   ]
  },
  {
   "cell_type": "code",
   "execution_count": 8,
   "id": "29a7ffbb-e19c-4906-81fc-605cc207db6c",
   "metadata": {},
   "outputs": [
    {
     "data": {
      "text/plain": [
       "[1, 4, 7, 12, 17, 24, 31, 40, 49, 60]"
      ]
     },
     "execution_count": 8,
     "metadata": {},
     "output_type": "execute_result"
    }
   ],
   "source": [
    "# 48. Create a list of the first `n` triangular numbers.\n",
    "\n",
    "#Code:-\n",
    "\n",
    "n = 10\n",
    "\n",
    "triangular_numbers = [i * (i+2) //2 for i in range(1,n+1)]\n",
    "\n",
    "triangular_numbers"
   ]
  },
  {
   "cell_type": "code",
   "execution_count": 4,
   "id": "e5f6ab92-85ea-4781-9614-d901c410d889",
   "metadata": {},
   "outputs": [
    {
     "data": {
      "text/plain": [
       "True"
      ]
     },
     "execution_count": 4,
     "metadata": {},
     "output_type": "execute_result"
    }
   ],
   "source": [
    "# 49. Check if a list contains another list as a subsequence.\n",
    "\n",
    "#Code:-\n",
    "\n",
    "_list = [1,2,3,4,5,6]\n",
    "\n",
    "_sublist = [2,4,6]\n",
    "\n",
    "_set = set(_sublist)\n",
    "\n",
    "_set.issubset(set(_list))"
   ]
  },
  {
   "cell_type": "code",
   "execution_count": 151,
   "id": "2e9551d5-9e49-4975-ba96-fd788b894b7d",
   "metadata": {},
   "outputs": [
    {
     "data": {
      "text/plain": [
       "[1, 4, 7, 6, 5, 77, 8, 0, 9]"
      ]
     },
     "execution_count": 151,
     "metadata": {},
     "output_type": "execute_result"
    }
   ],
   "source": [
    "# 50. Swap two elements in a list by their indices.\n",
    "\n",
    "#Code:-\n",
    "\n",
    "l = [1,4,5,6,7,77,8,0,9]\n",
    "\n",
    "num1 = l[2]\n",
    "\n",
    "num2 = l[4]\n",
    "\n",
    "l[2] = num2\n",
    "\n",
    "l[4] = num1\n",
    "\n",
    "l"
   ]
  },
  {
   "cell_type": "code",
   "execution_count": 153,
   "id": "033db4eb-b420-4d3a-b2d1-717ff3d4639e",
   "metadata": {},
   "outputs": [],
   "source": [
    "#*******************************************************************************************#\n",
    "#**********************''''TUPLE PRACTICE PROBLEMS''''****************************************#\n",
    "#*******************************************************************************************#"
   ]
  },
  {
   "cell_type": "code",
   "execution_count": 2,
   "id": "008fdc27-a3c1-4aa2-a3d5-13abc0c9b0e5",
   "metadata": {},
   "outputs": [
    {
     "data": {
      "text/plain": [
       "(0, 1, 2, 3, 4)"
      ]
     },
     "execution_count": 2,
     "metadata": {},
     "output_type": "execute_result"
    }
   ],
   "source": [
    "# 1. Create a tuple with integers from 1 to 5.\n",
    "\n",
    "#Code:-\n",
    "\n",
    "t = tuple(range(5))\n",
    "t"
   ]
  },
  {
   "cell_type": "code",
   "execution_count": 9,
   "id": "fffd9709-bb47-4505-a2b3-e1e11affd919",
   "metadata": {},
   "outputs": [
    {
     "data": {
      "text/plain": [
       "3"
      ]
     },
     "execution_count": 9,
     "metadata": {},
     "output_type": "execute_result"
    }
   ],
   "source": [
    "# 2. Access the third element of a tuple.\n",
    "\n",
    "#Code:-\n",
    "\n",
    "tuple = (1,2,3,4,5)\n",
    "\n",
    "tuple[2]"
   ]
  },
  {
   "cell_type": "code",
   "execution_count": 9,
   "id": "0856700d-1dba-424d-802b-ab6920173593",
   "metadata": {},
   "outputs": [
    {
     "data": {
      "text/plain": [
       "5"
      ]
     },
     "execution_count": 9,
     "metadata": {},
     "output_type": "execute_result"
    }
   ],
   "source": [
    "# 3. Find the length of a tuple without using the `len()` function.\n",
    "\n",
    "#Code:-\n",
    "\n",
    "t = (1,2,3,4,5)\n",
    "\n",
    "l = list(map(str,t))\n",
    "\n",
    "s = ''.join(l)\n",
    "\n",
    "length = s.rfind(s[-1]) + 1\n",
    "\n",
    "length"
   ]
  },
  {
   "cell_type": "code",
   "execution_count": 37,
   "id": "703a7372-95d3-4f35-a824-d3a9c8f26775",
   "metadata": {},
   "outputs": [
    {
     "data": {
      "text/plain": [
       "2"
      ]
     },
     "execution_count": 37,
     "metadata": {},
     "output_type": "execute_result"
    }
   ],
   "source": [
    "# 4. Count the occurrences of an element in a tuple.\n",
    "\n",
    "#Code:-\n",
    "\n",
    "t = (1,2,3,1,4,5)\n",
    "\n",
    "t.count(1)"
   ]
  },
  {
   "cell_type": "code",
   "execution_count": 39,
   "id": "f2d3c606-dc0b-44b7-b2d3-d3a46a18ed33",
   "metadata": {},
   "outputs": [
    {
     "data": {
      "text/plain": [
       "2"
      ]
     },
     "execution_count": 39,
     "metadata": {},
     "output_type": "execute_result"
    }
   ],
   "source": [
    "# 5. Find the index of the first occurrence of an element in a tuple.\n",
    "\n",
    "#Code:-\n",
    "\n",
    "t = (1,2,3,1,4,5)\n",
    "\n",
    "t.index(3)"
   ]
  },
  {
   "cell_type": "code",
   "execution_count": 45,
   "id": "49c8b5ec-a12c-4762-a7b5-2c93972733ed",
   "metadata": {},
   "outputs": [
    {
     "data": {
      "text/plain": [
       "True"
      ]
     },
     "execution_count": 45,
     "metadata": {},
     "output_type": "execute_result"
    }
   ],
   "source": [
    "# 6. Check if an element exists in a tuple.\n",
    "\n",
    "#Code:-\n",
    "\n",
    "t = (1,2,3,1,4,5)\n",
    "\n",
    "3 in t"
   ]
  },
  {
   "cell_type": "code",
   "execution_count": 11,
   "id": "df0c1eff-9c4d-4ee8-b5b2-ffcf2c755d9f",
   "metadata": {},
   "outputs": [
    {
     "data": {
      "text/plain": [
       "[1, 2, 3, 1, 4, 5]"
      ]
     },
     "execution_count": 11,
     "metadata": {},
     "output_type": "execute_result"
    }
   ],
   "source": [
    "# 7. Convert a tuple to a list.\n",
    "\n",
    "t = (1,2,3,1,4,5)\n",
    "\n",
    "list(t)"
   ]
  },
  {
   "cell_type": "code",
   "execution_count": 13,
   "id": "a2631339-6711-4e51-b828-52f7ca2d2108",
   "metadata": {},
   "outputs": [
    {
     "data": {
      "text/plain": [
       "(1, 2, 3, 1, 4, 5)"
      ]
     },
     "execution_count": 13,
     "metadata": {},
     "output_type": "execute_result"
    }
   ],
   "source": [
    "# 8. Convert a list to a tuple.\n",
    "\n",
    "l = [1, 2, 3, 1, 4, 5]\n",
    "\n",
    "tuple(l)"
   ]
  },
  {
   "cell_type": "code",
   "execution_count": 23,
   "id": "e6028925-c6b5-4c5b-92c1-868e4ab25553",
   "metadata": {},
   "outputs": [],
   "source": [
    "# 9. Unpack the elements of a tuple into variables.\n",
    "\n",
    "#Code:-\n",
    "\n",
    "t = (1,2,3,1,4,5)\n",
    "\n",
    "a,b,c,d,e,f = t"
   ]
  },
  {
   "cell_type": "code",
   "execution_count": 31,
   "id": "ac6dc038-d8ca-444c-96ef-f2baa8d29949",
   "metadata": {},
   "outputs": [
    {
     "data": {
      "text/plain": [
       "(2, 4, 6, 8, 10)"
      ]
     },
     "execution_count": 31,
     "metadata": {},
     "output_type": "execute_result"
    }
   ],
   "source": [
    "# 10. Create a tuple of even numbers from 1 to 10\n",
    "\n",
    "#Code:-\n",
    "\n",
    "my_tuple = tuple(filter(lambda x: x%2==0 , range(1,11)))\n",
    "\n",
    "my_tuple"
   ]
  },
  {
   "cell_type": "code",
   "execution_count": 35,
   "id": "2c9e9167-365a-4eb5-94b6-338a62643e3d",
   "metadata": {},
   "outputs": [
    {
     "data": {
      "text/plain": [
       "(1, 3, 5, 7, 9)"
      ]
     },
     "execution_count": 35,
     "metadata": {},
     "output_type": "execute_result"
    }
   ],
   "source": [
    "# 11. Create a tuple of odd numbers from 1 to 10.\n",
    "\n",
    "#Code:-\n",
    "\n",
    "my_tuple = tuple(filter(lambda x: not x%2==0, range(1,11)))\n",
    "\n",
    "my_tuple"
   ]
  },
  {
   "cell_type": "code",
   "execution_count": 38,
   "id": "373d4ff5-b9d6-4e1e-bf55-8b0f247adc9c",
   "metadata": {},
   "outputs": [
    {
     "data": {
      "text/plain": [
       "(1, 3, 5, 7, 9, 2, 4, 6, 8, 10)"
      ]
     },
     "execution_count": 38,
     "metadata": {},
     "output_type": "execute_result"
    }
   ],
   "source": [
    "# 12. Concatenate two tuples.\n",
    "\n",
    "#Code\n",
    "\n",
    "t1 = (1, 3, 5, 7, 9)\n",
    "\n",
    "t2 =  (2, 4, 6, 8, 10)\n",
    "\n",
    "\n",
    "t1 + t2"
   ]
  },
  {
   "cell_type": "code",
   "execution_count": 40,
   "id": "a01fbd26-0e93-4924-b2eb-98c88f660b5d",
   "metadata": {},
   "outputs": [
    {
     "data": {
      "text/plain": [
       "(1, 3, 5, 7, 9, 1, 3, 5, 7, 9, 1, 3, 5, 7, 9)"
      ]
     },
     "execution_count": 40,
     "metadata": {},
     "output_type": "execute_result"
    }
   ],
   "source": [
    "# 13. Repeat a tuple three times.\n",
    "\n",
    "#Code:-\n",
    "\n",
    "t1 = (1, 3, 5, 7, 9)\n",
    "\n",
    "t1 * 3"
   ]
  },
  {
   "cell_type": "code",
   "execution_count": 42,
   "id": "73419fce-bd6c-43f2-843f-35cb69bfda53",
   "metadata": {},
   "outputs": [
    {
     "data": {
      "text/plain": [
       "False"
      ]
     },
     "execution_count": 42,
     "metadata": {},
     "output_type": "execute_result"
    }
   ],
   "source": [
    "# 14. Check if a tuple is empty.\n",
    "\n",
    "#Code:-\n",
    "\n",
    "t = (1, 3, 5, 7, 9)\n",
    "\n",
    "len(t) == 0"
   ]
  },
  {
   "cell_type": "code",
   "execution_count": 49,
   "id": "015b2dd9-8651-4545-ad13-72208abdf6cc",
   "metadata": {},
   "outputs": [
    {
     "data": {
      "text/plain": [
       "((1, 2, 3, 4, 5), (6, 7, 8, 9, 10))"
      ]
     },
     "execution_count": 49,
     "metadata": {},
     "output_type": "execute_result"
    }
   ],
   "source": [
    "# 15. Create a nested tuple.\n",
    "\n",
    "#Code:-\n",
    "\n",
    "inner_tuple1 = (1,2,3,4,5)\n",
    "\n",
    "inner_tuple2 = (6,7,8,9,10)\n",
    "\n",
    "\n",
    "tuple3 = (inner_tuple1,inner_tuple2)\n",
    "\n",
    "tuple3"
   ]
  },
  {
   "cell_type": "code",
   "execution_count": 51,
   "id": "48df70bd-15fa-4fff-b39c-06edab6036e5",
   "metadata": {},
   "outputs": [
    {
     "data": {
      "text/plain": [
       "(1, 2, 3, 4, 5)"
      ]
     },
     "execution_count": 51,
     "metadata": {},
     "output_type": "execute_result"
    }
   ],
   "source": [
    "# 16. Access the first element of a nested tuple.\n",
    "\n",
    "t = ((1, 2, 3, 4, 5), (6, 7, 8, 9, 10))\n",
    "\n",
    "t[0]"
   ]
  },
  {
   "cell_type": "code",
   "execution_count": 54,
   "id": "b9867cfd-f36c-4b03-beae-dfc142407750",
   "metadata": {},
   "outputs": [
    {
     "data": {
      "text/plain": [
       "(0,)"
      ]
     },
     "execution_count": 54,
     "metadata": {},
     "output_type": "execute_result"
    }
   ],
   "source": [
    "# 17. Create a tuple with a single element.\n",
    "\n",
    "#Code:-\n",
    "\n",
    "t = tuple(range(0,1))\n",
    "\n",
    "t"
   ]
  },
  {
   "cell_type": "code",
   "execution_count": 57,
   "id": "3aca5c2a-deef-4544-b853-5ad1a27c13fa",
   "metadata": {},
   "outputs": [
    {
     "data": {
      "text/plain": [
       "False"
      ]
     },
     "execution_count": 57,
     "metadata": {},
     "output_type": "execute_result"
    }
   ],
   "source": [
    "# 18. Compare two tuples.\n",
    "\n",
    "#Code:-\n",
    "\n",
    "tuple1 = (1,2,3,4,5)\n",
    "\n",
    "tuple2 = (6,7,8,9,10)\n",
    "\n",
    "\n",
    "tuple1 == tuple2"
   ]
  },
  {
   "cell_type": "code",
   "execution_count": 72,
   "id": "aedc6755-8719-47c4-a5b3-f1eea5b475b7",
   "metadata": {},
   "outputs": [],
   "source": [
    "# 19. Delete a tuple.\n",
    "\n",
    "#Code:-\n",
    "\n",
    "t = (6,7,8,9,10)\n",
    "\n",
    "del t"
   ]
  },
  {
   "cell_type": "code",
   "execution_count": 77,
   "id": "4b0fb3a1-9649-4743-8e0e-de694ff06b16",
   "metadata": {},
   "outputs": [
    {
     "data": {
      "text/plain": [
       "(2, 4, 6, 8, 10)"
      ]
     },
     "execution_count": 77,
     "metadata": {},
     "output_type": "execute_result"
    }
   ],
   "source": [
    "# 20. Slice a tuple\n",
    "\n",
    "#Code:-\n",
    "\n",
    "t = (1,2,3,4,5,6,7,8,9,10)\n",
    "\n",
    "t[1::2]"
   ]
  },
  {
   "cell_type": "code",
   "execution_count": 79,
   "id": "d2e6c44f-2114-449a-a894-08c7914f0a41",
   "metadata": {},
   "outputs": [
    {
     "data": {
      "text/plain": [
       "10"
      ]
     },
     "execution_count": 79,
     "metadata": {},
     "output_type": "execute_result"
    }
   ],
   "source": [
    "# 21. Find the maximum value in a tuple.\n",
    "\n",
    "#Code:-\n",
    "\n",
    "t = (1,2,3,4,5,6,7,8,9,10)\n",
    "\n",
    "max(t)"
   ]
  },
  {
   "cell_type": "code",
   "execution_count": 81,
   "id": "2cbdb025-02a0-42e6-bca4-0e12c8bdb4cb",
   "metadata": {},
   "outputs": [
    {
     "data": {
      "text/plain": [
       "1"
      ]
     },
     "execution_count": 81,
     "metadata": {},
     "output_type": "execute_result"
    }
   ],
   "source": [
    "# 22. Find the minimum value in a tuple\n",
    "\n",
    "#Code:-\n",
    "\n",
    "t = (1,2,3,4,5,6,7,8,9,10)\n",
    "\n",
    "min(t)"
   ]
  },
  {
   "cell_type": "code",
   "execution_count": 84,
   "id": "34e0c6bd-5cda-4501-b40c-dd8f7b377f61",
   "metadata": {},
   "outputs": [
    {
     "data": {
      "text/plain": [
       "('Z', 'a', 'm', 'i', 'n', ' ', 'A', 'b', 'b', 'a', 's')"
      ]
     },
     "execution_count": 84,
     "metadata": {},
     "output_type": "execute_result"
    }
   ],
   "source": [
    "# 23. Convert a string to a tuple of characters.\n",
    "\n",
    "#Code:-\n",
    "\n",
    "my_string = \"Zamin Abbas\"\n",
    "\n",
    "tuple(my_string)"
   ]
  },
  {
   "cell_type": "code",
   "execution_count": 89,
   "id": "f209b382-ba76-45b6-af20-282d13e61a74",
   "metadata": {},
   "outputs": [
    {
     "data": {
      "text/plain": [
       "'Zamin Abbas'"
      ]
     },
     "execution_count": 89,
     "metadata": {},
     "output_type": "execute_result"
    }
   ],
   "source": [
    "# 24. Convert a tuple of characters to a string.\n",
    "\n",
    "#Code:-\n",
    "\n",
    "t = ('Z', 'a', 'm', 'i', 'n', ' ', 'A', 'b', 'b', 'a', 's')\n",
    "\n",
    "s = ''.join(t)\n",
    "\n",
    "s"
   ]
  },
  {
   "cell_type": "code",
   "execution_count": 92,
   "id": "67c7241d-b2f7-4edf-8540-336d311e2dad",
   "metadata": {},
   "outputs": [
    {
     "data": {
      "text/plain": [
       "('zamin',\n",
       " [1, 2, 3, 4, 5],\n",
       " {5, 6, 7, 8, 9},\n",
       " {'Name': 'Zamin', 'Age': 20, 'Degree': 'Computer Science'})"
      ]
     },
     "execution_count": 92,
     "metadata": {},
     "output_type": "execute_result"
    }
   ],
   "source": [
    "# 25. Create a tuple from multiple data types.\n",
    "\n",
    "#Code:-\n",
    "\n",
    "my_string = \"zamin\"\n",
    "\n",
    "my_list = [1,2,3,4,5]\n",
    "\n",
    "my_set = {5,6,7,8,9}\n",
    "\n",
    "my_dict = {\"Name\":\"Zamin\", \"Age\":20, \"Degree\":\"Computer Science\"}\n",
    "\n",
    "my_tuple = (my_string, my_list, my_set, my_dict)\n",
    "\n",
    "my_tuple"
   ]
  },
  {
   "cell_type": "code",
   "execution_count": 95,
   "id": "256e6442-819f-488e-843f-c9bb94be416e",
   "metadata": {},
   "outputs": [
    {
     "data": {
      "text/plain": [
       "True"
      ]
     },
     "execution_count": 95,
     "metadata": {},
     "output_type": "execute_result"
    }
   ],
   "source": [
    "# 26. Check if two tuples are identical.\n",
    "\n",
    "#Code:- \n",
    "\n",
    "t1 = (1,2,3,4,5)\n",
    "\n",
    "t2 = (1,2,3,4,5)\n",
    "\n",
    "t1 == t2"
   ]
  },
  {
   "cell_type": "code",
   "execution_count": 112,
   "id": "b629e9a1-9da2-4915-a284-39cbae086d9a",
   "metadata": {},
   "outputs": [
    {
     "data": {
      "text/plain": [
       "(1, 2, 3, 4, 5, 6, 7, 8, 9, 10)"
      ]
     },
     "execution_count": 112,
     "metadata": {},
     "output_type": "execute_result"
    }
   ],
   "source": [
    "# 27. Sort the elements of a tuple.\n",
    "\n",
    "#Code:-\n",
    "\n",
    "t = (1, 3, 5, 7, 9, 2, 4, 6, 8, 10)\n",
    "\n",
    "t = tuple(sorted(t))\n",
    "\n",
    "t"
   ]
  },
  {
   "cell_type": "code",
   "execution_count": 115,
   "id": "a2b0467c-328f-4f35-8748-3f485e031148",
   "metadata": {},
   "outputs": [
    {
     "data": {
      "text/plain": [
       "('1', '3', '5', '7', '9', '2', '4', '6', '8', '10')"
      ]
     },
     "execution_count": 115,
     "metadata": {},
     "output_type": "execute_result"
    }
   ],
   "source": [
    "# 28. Convert a tuple of integers to a tuple of strings.\n",
    "\n",
    "#Code:-\n",
    "\n",
    "t = (1, 3, 5, 7, 9, 2, 4, 6, 8, 10)\n",
    "\n",
    "t = tuple(map(str,t))\n",
    "\n",
    "t"
   ]
  },
  {
   "cell_type": "code",
   "execution_count": 118,
   "id": "4265946b-4a47-454d-af91-47c58a851cbc",
   "metadata": {},
   "outputs": [
    {
     "data": {
      "text/plain": [
       "(1, 3, 5, 7, 9, 2, 4, 6, 8, 10)"
      ]
     },
     "execution_count": 118,
     "metadata": {},
     "output_type": "execute_result"
    }
   ],
   "source": [
    "# 29. Convert a tuple of strings to a tuple of integers.\n",
    "\n",
    "#Code:-\n",
    "\n",
    "t = ('1', '3', '5', '7', '9', '2', '4', '6', '8', '10')\n",
    "\n",
    "t = tuple(map(int,t))\n",
    "\n",
    "t"
   ]
  },
  {
   "cell_type": "code",
   "execution_count": 120,
   "id": "4917fd8c-58b8-4463-a258-a31c0fec7c62",
   "metadata": {},
   "outputs": [
    {
     "data": {
      "text/plain": [
       "(1, 2, 3, 4, 5, 6, 7, 8, 9, 10)"
      ]
     },
     "execution_count": 120,
     "metadata": {},
     "output_type": "execute_result"
    }
   ],
   "source": [
    "# 30. Merge two tuples.\n",
    "\n",
    "#Code:-\n",
    "\n",
    "t1 = (1,2,3,4,5)\n",
    "\n",
    "t2 = (6,7,8,9,10)\n",
    "\n",
    "t1 + t2"
   ]
  },
  {
   "cell_type": "code",
   "execution_count": 126,
   "id": "e94e0db5-99f4-4fd1-bca3-0507ff8ff988",
   "metadata": {},
   "outputs": [
    {
     "data": {
      "text/plain": [
       "(1, 2, 3, 4, 5, 6, 7, 8, 9, 10)"
      ]
     },
     "execution_count": 126,
     "metadata": {},
     "output_type": "execute_result"
    }
   ],
   "source": [
    "# 31. Flatten a nested tuple.\n",
    "\n",
    "#Code:-\n",
    "\n",
    "nested_tuple = ((1, 2, 3, 4, 5), (6, 7, 8, 9, 10))\n",
    "\n",
    "flat_tuple = eval(str(nested_tuple).replace('(','').replace(')',''))\n",
    "\n",
    "flat_tuple"
   ]
  },
  {
   "cell_type": "code",
   "execution_count": 133,
   "id": "adececea-89eb-448f-8117-698c2d31ee6e",
   "metadata": {},
   "outputs": [
    {
     "data": {
      "text/plain": [
       "(2, 3, 5, 7, 11)"
      ]
     },
     "execution_count": 133,
     "metadata": {},
     "output_type": "execute_result"
    }
   ],
   "source": [
    "# 32. Create a tuple of the first 5 prime numbers.\n",
    "\n",
    "#Code:-\n",
    "\n",
    "_tuple = (2,3,5,7,11)\n",
    "\n",
    "_tuple"
   ]
  },
  {
   "cell_type": "code",
   "execution_count": 140,
   "id": "b82b73ff-dc92-4d8c-a48e-038404c5e0eb",
   "metadata": {},
   "outputs": [
    {
     "data": {
      "text/plain": [
       "True"
      ]
     },
     "execution_count": 140,
     "metadata": {},
     "output_type": "execute_result"
    }
   ],
   "source": [
    "# 33. Check if a tuple is a palindrome.\n",
    "\n",
    "#Code:-\n",
    "\n",
    "t = (1,2,3,2,1)\n",
    "\n",
    "l = list(t)\n",
    "\n",
    "l[::1] == l[::-1]"
   ]
  },
  {
   "cell_type": "code",
   "execution_count": 147,
   "id": "8d83c7e3-8bb2-4e13-af1e-ba48568f471f",
   "metadata": {},
   "outputs": [
    {
     "data": {
      "text/plain": [
       "(2, 4, 6, 8, 10)"
      ]
     },
     "execution_count": 147,
     "metadata": {},
     "output_type": "execute_result"
    }
   ],
   "source": [
    "# 34. Create a tuple of squares of numbers from 1 to 5.\n",
    "\n",
    "#Code:-\n",
    "\n",
    "t = tuple(map(lambda x: x*2, range(1,6)))\n",
    "\n",
    "t"
   ]
  },
  {
   "cell_type": "code",
   "execution_count": 150,
   "id": "3b02491a-3600-43cd-bed8-d53f945a981f",
   "metadata": {},
   "outputs": [
    {
     "data": {
      "text/plain": [
       "(2, 4, 6, 8, 10)"
      ]
     },
     "execution_count": 150,
     "metadata": {},
     "output_type": "execute_result"
    }
   ],
   "source": [
    "# 35. Filter out all even numbers from a tuple.\n",
    "\n",
    "#Code:-\n",
    "\n",
    "t = (1,2,3,4,5,6,7,8,9,10)\n",
    "\n",
    "tuple(filter(lambda x: x%2==0,t))"
   ]
  },
  {
   "cell_type": "code",
   "execution_count": 153,
   "id": "0c900667-9347-413e-96f4-e5a9f072e125",
   "metadata": {},
   "outputs": [
    {
     "data": {
      "text/plain": [
       "(2, 4, 6, 8, 10, 12, 14, 16, 18, 20)"
      ]
     },
     "execution_count": 153,
     "metadata": {},
     "output_type": "execute_result"
    }
   ],
   "source": [
    "# 36. Multiply all elements in a tuple by 2.\n",
    "\n",
    "#Code:-\n",
    "\n",
    "t = (1,2,3,4,5,6,7,8,9,10)\n",
    "\n",
    "t = tuple(map(lambda x: x*2,t))\n",
    "\n",
    "t"
   ]
  },
  {
   "cell_type": "code",
   "execution_count": 252,
   "id": "026a201b-8d20-4949-84dc-70f857cc4272",
   "metadata": {},
   "outputs": [
    {
     "data": {
      "text/plain": [
       "(98, 43, 60, 84, 94, 7, 32, 88, 62, 6)"
      ]
     },
     "execution_count": 252,
     "metadata": {},
     "output_type": "execute_result"
    }
   ],
   "source": [
    "# 37. Create a tuple of random numbers.\n",
    "\n",
    "#Code:-\n",
    "\n",
    "import random\n",
    "\n",
    "t = tuple(random.sample(range(1,101),10))\n",
    "\n",
    "t"
   ]
  },
  {
   "cell_type": "code",
   "execution_count": 188,
   "id": "d7c8ec88-1d16-49fe-ac15-de59f35b247a",
   "metadata": {},
   "outputs": [
    {
     "data": {
      "text/plain": [
       "False"
      ]
     },
     "execution_count": 188,
     "metadata": {},
     "output_type": "execute_result"
    }
   ],
   "source": [
    "# 38. Check if a tuple is sorted.\n",
    "\n",
    "t = (1,2,0,4,5,6,10,7,8,9,10)\n",
    "\n",
    "l = list(t)\n",
    "\n",
    "l.sort()\n",
    "\n",
    "t == tuple(l)"
   ]
  },
  {
   "cell_type": "code",
   "execution_count": 193,
   "id": "b8068c56-b51a-4525-b89d-a0405f31c88b",
   "metadata": {},
   "outputs": [
    {
     "data": {
      "text/plain": [
       "(6, 5, 4, 0, 2, 1, 1, 2, 0, 4, 5)"
      ]
     },
     "execution_count": 193,
     "metadata": {},
     "output_type": "execute_result"
    }
   ],
   "source": [
    "# 39. Rotate a tuple to the left by `n` positions.\n",
    "\n",
    "n = 5\n",
    "\n",
    "t = (1,2,0,4,5,6,10,7,8,9,10)\n",
    "\n",
    "l = list(t)\n",
    "\n",
    "l1 = l[n::-1]\n",
    "\n",
    "t = tuple(l1 + l[0:n])\n",
    "\n",
    "t"
   ]
  },
  {
   "cell_type": "code",
   "execution_count": 212,
   "id": "4ccdfeab-0dfb-41cd-9c4f-266bc01ae2b6",
   "metadata": {},
   "outputs": [
    {
     "data": {
      "text/plain": [
       "(1, 2, 0, 4, 5, 6, 10, 9, 8, 7, 10)"
      ]
     },
     "execution_count": 212,
     "metadata": {},
     "output_type": "execute_result"
    }
   ],
   "source": [
    "# 40. Rotate a tuple to the right by `n` positions.\n",
    "\n",
    "#Code:-\n",
    "\n",
    "n = 5\n",
    "\n",
    "t = (1,2,0,4,5,6,10,7,8,9,10)\n",
    "\n",
    "l = list(t)\n",
    "\n",
    "t = tuple(l[:n+1:1] + l[:-n-1:-1])\n",
    "          \n",
    "t"
   ]
  },
  {
   "cell_type": "code",
   "execution_count": 215,
   "id": "ba279844-ef3c-4657-8d28-21db30d9b561",
   "metadata": {},
   "outputs": [
    {
     "data": {
      "text/plain": [
       "(0, 1, 1, 2, 3)"
      ]
     },
     "execution_count": 215,
     "metadata": {},
     "output_type": "execute_result"
    }
   ],
   "source": [
    "# 41. Create a tuple of the first 5 Fibonacci numbers.\n",
    "\n",
    "#Code:-\n",
    "\n",
    "t = (0,1,1,2,3)\n",
    "\n",
    "t"
   ]
  },
  {
   "cell_type": "code",
   "execution_count": 220,
   "id": "e369f662-78bb-48b8-8d8d-410d89a29646",
   "metadata": {},
   "outputs": [
    {
     "name": "stdin",
     "output_type": "stream",
     "text": [
      " 13 14 14 \n"
     ]
    },
    {
     "data": {
      "text/plain": [
       "('1', '3', ' ', '1', '4', ' ', '1', '4', ' ')"
      ]
     },
     "execution_count": 220,
     "metadata": {},
     "output_type": "execute_result"
    }
   ],
   "source": [
    "# 42. Create a tuple from user input.\n",
    "\n",
    "t = tuple(input())\n",
    "\n",
    "t"
   ]
  },
  {
   "cell_type": "code",
   "execution_count": 231,
   "id": "925a1e03-e3b7-41e5-bc6a-430502838f86",
   "metadata": {},
   "outputs": [
    {
     "data": {
      "text/plain": [
       "(0, 3, 1, 2, 1)"
      ]
     },
     "execution_count": 231,
     "metadata": {},
     "output_type": "execute_result"
    }
   ],
   "source": [
    "# 43. Swap two elements in a tuple.\n",
    "\n",
    "#Code:-\n",
    "\n",
    "n1 = 1\n",
    "\n",
    "n2 = 4\n",
    "\n",
    "t = (0,1,1,2,3)\n",
    "\n",
    "\n",
    "l = list(t)\n",
    "\n",
    "temp = l[n1]\n",
    "\n",
    "l[n1] = l[n2]\n",
    "\n",
    "l[n2] = temp\n",
    "\n",
    "t = tuple(l)\n",
    "\n",
    "t"
   ]
  },
  {
   "cell_type": "code",
   "execution_count": 235,
   "id": "9ef47afd-4793-4f4c-ac10-c087d3d69dbd",
   "metadata": {},
   "outputs": [],
   "source": [
    "# 44. Reverse the elements of a tuple.\n",
    "\n",
    "#Code:-\n",
    "\n",
    "t = (0,1,1,2,3)\n",
    "\n",
    "l = list(t)\n",
    "\n",
    "l.reverse()"
   ]
  },
  {
   "cell_type": "code",
   "execution_count": 241,
   "id": "f7d62d1f-b099-4aa8-9507-796419aad44c",
   "metadata": {},
   "outputs": [
    {
     "data": {
      "text/plain": [
       "(1, 4, 9, 16, 25, 36, 49, 64, 81, 100)"
      ]
     },
     "execution_count": 241,
     "metadata": {},
     "output_type": "execute_result"
    }
   ],
   "source": [
    "# 45. Create a tuple of the first `n` powers of 2.\n",
    "\n",
    "#Code:-\n",
    "\n",
    "n = 10\n",
    "\n",
    "t = tuple(map(lambda x:x * x, range(1,n+1)))\n",
    "\n",
    "t"
   ]
  },
  {
   "cell_type": "code",
   "execution_count": 244,
   "id": "b360ed29-7e57-4fe9-90b5-7eba5b911e49",
   "metadata": {},
   "outputs": [
    {
     "data": {
      "text/plain": [
       "'Abbasss'"
      ]
     },
     "execution_count": 244,
     "metadata": {},
     "output_type": "execute_result"
    }
   ],
   "source": [
    "# 46. Find the longest string in a tuple of strings.\n",
    "\n",
    "#Code:-\n",
    "\n",
    "t = (\"Zamin\",\"Abbasss\",\"Raza\",\"Khan\",\"Ali\")\n",
    "\n",
    "max(t, key = len)"
   ]
  },
  {
   "cell_type": "code",
   "execution_count": 245,
   "id": "1bc789bf-16fa-46a5-83bf-352d87318b44",
   "metadata": {},
   "outputs": [
    {
     "data": {
      "text/plain": [
       "'Ali'"
      ]
     },
     "execution_count": 245,
     "metadata": {},
     "output_type": "execute_result"
    }
   ],
   "source": [
    "# 47. Find the shortest string in a tuple of strings.\n",
    "\n",
    "#Code:-\n",
    "\n",
    "t = (\"Zamin\",\"Abbasss\",\"Raza\",\"Khan\",\"Ali\")\n",
    "\n",
    "min(t, key = len)"
   ]
  },
  {
   "cell_type": "code",
   "execution_count": 247,
   "id": "82ea9266-b3de-4b60-83ad-ff367abeb666",
   "metadata": {},
   "outputs": [
    {
     "data": {
      "text/plain": [
       "(1.0, 3.0, 6.0, 10.0, 15.0, 21.0, 28.0, 36.0, 45.0, 55.0)"
      ]
     },
     "execution_count": 247,
     "metadata": {},
     "output_type": "execute_result"
    }
   ],
   "source": [
    "# 48. Create a tuple of the first `n` triangular numbers.\n",
    "\n",
    "#Code:-\n",
    "\n",
    "t = tuple(map(lambda x: (x * (x + 1)) /2, range(1,11)))\n",
    "\n",
    "t"
   ]
  },
  {
   "cell_type": "code",
   "execution_count": 272,
   "id": "95df71c0-ce8f-4a75-98e7-f838995932e6",
   "metadata": {},
   "outputs": [
    {
     "data": {
      "text/plain": [
       "True"
      ]
     },
     "execution_count": 272,
     "metadata": {},
     "output_type": "execute_result"
    }
   ],
   "source": [
    "# 49. Check if a tuple contains another tuple as a subsequence.\n",
    "\n",
    "#Code:-\n",
    "\n",
    "t = (1,2,(3,2),4,5,1,2)\n",
    "\n",
    "l = list(t)\n",
    "\n",
    "str(l).find(')') > 0"
   ]
  },
  {
   "cell_type": "code",
   "execution_count": 278,
   "id": "8ddcaa54-9dd9-4dcd-94ef-7fe07504e00a",
   "metadata": {},
   "outputs": [
    {
     "data": {
      "text/plain": [
       "(0, 1, 0, 1, 0, 1, 0, 1, 0, 1)"
      ]
     },
     "execution_count": 278,
     "metadata": {},
     "output_type": "execute_result"
    }
   ],
   "source": [
    "# 50. Create a tuple of alternating 1s and 0s of length `n`.\n",
    "\n",
    "#Code:-\n",
    "\n",
    "n = 10\n",
    "\n",
    "t = tuple(map(lambda x: int(x%2 == 0), range(1,n+1)))\n",
    "\n",
    "t"
   ]
  },
  {
   "cell_type": "code",
   "execution_count": 276,
   "id": "5e56f8d9-afcd-4452-b2b0-5dbe709e792c",
   "metadata": {},
   "outputs": [],
   "source": [
    "#^^^^^^^^^^^^^^^^^^^^^^^^^^^^^^^^^^^^^^^^^^^^^^^^^^^^^^^^^^^^^^^^^^^^^^^^^^^^^^^^^^^^^^^^^^^^^^^^^^^^^^^^^^#\n",
    "#************************************* SET PRACTICE PROBLEMS **********************************************#\n",
    "#^^^^^^^^^^^^^^^^^^^^^^^^^^^^^^^^^^^^^^^^^^^^^^^^^^^^^^^^^^^^^^^^^^^^^^^^^^^^^^^^^^^^^^^^^^^^^^^^^^^^^^^^^^#"
   ]
  },
  {
   "cell_type": "code",
   "execution_count": 2,
   "id": "16d7455d-1043-4a77-8710-8c1ebb747ba8",
   "metadata": {},
   "outputs": [
    {
     "data": {
      "text/plain": [
       "{1, 2, 3, 4, 5}"
      ]
     },
     "execution_count": 2,
     "metadata": {},
     "output_type": "execute_result"
    }
   ],
   "source": [
    "# 1. Create a set with integers from 1 to 5.\n",
    "\n",
    "#Code:-\n",
    "\n",
    "s  = set(range(1,6))\n",
    "\n",
    "s"
   ]
  },
  {
   "cell_type": "code",
   "execution_count": 11,
   "id": "ab2ee285-d7f6-40d1-9de5-0bc49f12ff70",
   "metadata": {},
   "outputs": [
    {
     "data": {
      "text/plain": [
       "{1, 2, 3, 4, 5, 10}"
      ]
     },
     "execution_count": 11,
     "metadata": {},
     "output_type": "execute_result"
    }
   ],
   "source": [
    "# 2. Add an element to a set.\n",
    "\n",
    "#Code:-\n",
    "\n",
    "s = {1, 2, 3, 4, 5}\n",
    "\n",
    "s.add(10)\n",
    "\n",
    "s"
   ]
  },
  {
   "cell_type": "code",
   "execution_count": 16,
   "id": "354a1a20-fb7f-43a7-8b76-c39a2a652d61",
   "metadata": {},
   "outputs": [
    {
     "data": {
      "text/plain": [
       "{2, 3, 4, 5}"
      ]
     },
     "execution_count": 16,
     "metadata": {},
     "output_type": "execute_result"
    }
   ],
   "source": [
    "# 3. Remove an element from a set.\n",
    "\n",
    "#Code:-\n",
    "\n",
    "s = {1, 2, 3, 4, 5}\n",
    "\n",
    "s.remove(1)\n",
    "\n",
    "s"
   ]
  },
  {
   "cell_type": "code",
   "execution_count": 22,
   "id": "a2ff9559-3262-427d-8f99-06f2996d1f7c",
   "metadata": {},
   "outputs": [
    {
     "data": {
      "text/plain": [
       "True"
      ]
     },
     "execution_count": 22,
     "metadata": {},
     "output_type": "execute_result"
    }
   ],
   "source": [
    "# 4. Check if an element exists in a set.\n",
    "\n",
    "#Code:-\n",
    "\n",
    "s = {1, 2, 3, 4, 5, 10}\n",
    "\n",
    "list(s).count(1) > 0 "
   ]
  },
  {
   "cell_type": "code",
   "execution_count": 34,
   "id": "d19ad73a-18a5-4779-b360-d516e8514e51",
   "metadata": {},
   "outputs": [
    {
     "data": {
      "text/plain": [
       "6"
      ]
     },
     "execution_count": 34,
     "metadata": {},
     "output_type": "execute_result"
    }
   ],
   "source": [
    "# 5. Find the length of a set without using the `len()` function.\n",
    "\n",
    "#Code:-\n",
    "\n",
    "s = {1, 2, 3, 4, 5, 10}\n",
    "\n",
    "l = list(map(str,s))\n",
    "\n",
    "my_string = ''.join(l)\n",
    "\n",
    "my_string.rfind(l[-1]) + 1"
   ]
  },
  {
   "cell_type": "code",
   "execution_count": 37,
   "id": "2948342a-0b22-4ce7-982d-95040e490281",
   "metadata": {},
   "outputs": [],
   "source": [
    "# 6. Clear all elements from a set.\n",
    "\n",
    "#Code:-\n",
    "\n",
    "s = {1, 2, 3, 4, 5, 10}\n",
    "\n",
    "s.clear()"
   ]
  },
  {
   "cell_type": "code",
   "execution_count": 39,
   "id": "7c46a926-1fee-4598-b2a4-2832af075479",
   "metadata": {},
   "outputs": [
    {
     "data": {
      "text/plain": [
       "{2, 4, 6, 8, 10}"
      ]
     },
     "execution_count": 39,
     "metadata": {},
     "output_type": "execute_result"
    }
   ],
   "source": [
    "# 7. Create a set of even numbers from 1 to 10.\n",
    "\n",
    "#Code:-\n",
    "\n",
    "s = set(filter(lambda x: x % 2==0, range(1,11)))\n",
    "\n",
    "s"
   ]
  },
  {
   "cell_type": "code",
   "execution_count": 41,
   "id": "e14ac59b-fe28-448e-8398-00b270389d80",
   "metadata": {},
   "outputs": [
    {
     "data": {
      "text/plain": [
       "{1, 3, 5, 7, 9}"
      ]
     },
     "execution_count": 41,
     "metadata": {},
     "output_type": "execute_result"
    }
   ],
   "source": [
    "# 8. Create a set of odd numbers from 1 to 10.\n",
    "\n",
    "#Code:-\n",
    "\n",
    "s = set(filter(lambda x: not x % 2==0, range(1,11)))\n",
    "\n",
    "s"
   ]
  },
  {
   "cell_type": "code",
   "execution_count": 44,
   "id": "8172a294-febc-4d2d-b922-c3518b02220a",
   "metadata": {},
   "outputs": [
    {
     "data": {
      "text/plain": [
       "{1, 2, 3, 4, 5, 7, 9, 10}"
      ]
     },
     "execution_count": 44,
     "metadata": {},
     "output_type": "execute_result"
    }
   ],
   "source": [
    "# 9. Find the union of two sets.\n",
    "\n",
    "#Code:-\n",
    "\n",
    "s1 = {1, 2, 3, 4, 5, 10}\n",
    "\n",
    "s2 = {1, 3, 5, 7, 9}\n",
    "\n",
    "s1.union(s2)"
   ]
  },
  {
   "cell_type": "code",
   "execution_count": 46,
   "id": "49c87166-d332-4baf-9959-03d7f15cfeb5",
   "metadata": {},
   "outputs": [
    {
     "data": {
      "text/plain": [
       "{1, 3, 5}"
      ]
     },
     "execution_count": 46,
     "metadata": {},
     "output_type": "execute_result"
    }
   ],
   "source": [
    "# 10. Find the intersection of two sets.\n",
    "\n",
    "#Code:-\n",
    "\n",
    "s1 = {1, 2, 3, 4, 5, 10}\n",
    "\n",
    "s2 = {1, 3, 5, 7, 9}\n",
    "\n",
    "s1.intersection(s2)"
   ]
  },
  {
   "cell_type": "code",
   "execution_count": 51,
   "id": "7bbe621d-1e41-4a0a-a5c1-ae47a2b8a3d4",
   "metadata": {},
   "outputs": [
    {
     "data": {
      "text/plain": [
       "{2, 4, 7, 9, 10}"
      ]
     },
     "execution_count": 51,
     "metadata": {},
     "output_type": "execute_result"
    }
   ],
   "source": [
    "# 11. Find the difference between two sets\n",
    "\n",
    "#Code:-\n",
    "\n",
    "s1 = {1, 2, 3, 4, 5, 10}\n",
    "\n",
    "s2 = {1, 3, 5, 7, 9}\n",
    "\n",
    "set(list(s1.difference(s2))  + list(s2.difference(s1)))"
   ]
  },
  {
   "cell_type": "code",
   "execution_count": 53,
   "id": "8bdc4e82-da1e-4045-8db8-969a36c309f6",
   "metadata": {},
   "outputs": [
    {
     "data": {
      "text/plain": [
       "True"
      ]
     },
     "execution_count": 53,
     "metadata": {},
     "output_type": "execute_result"
    }
   ],
   "source": [
    "# 12. Check if a set is a subset of another set.\n",
    "\n",
    "#Code:-\n",
    "\n",
    "s = {1, 2, 3, 4, 5, 10}\n",
    "\n",
    "s1 = {1,2,3}\n",
    "\n",
    "\n",
    "s1.issubset(s)"
   ]
  },
  {
   "cell_type": "code",
   "execution_count": 2,
   "id": "13828e8e-ca2d-46c8-b0c6-1d1711f5d651",
   "metadata": {},
   "outputs": [
    {
     "data": {
      "text/plain": [
       "True"
      ]
     },
     "execution_count": 2,
     "metadata": {},
     "output_type": "execute_result"
    }
   ],
   "source": [
    "# 13. Check if a set is a superset of another set.\n",
    "\n",
    "#Code:-\n",
    "\n",
    "s = {1, 2, 3, 4, 5, 10}\n",
    "\n",
    "s1 = {1,2,3}\n",
    "\n",
    "s.issuperset(s1)"
   ]
  },
  {
   "cell_type": "code",
   "execution_count": 5,
   "id": "2798ec6c-ef57-44da-8ed5-3215b772efb4",
   "metadata": {},
   "outputs": [
    {
     "data": {
      "text/plain": [
       "{1, 2, 3, 4, 5, 6, 7, 77}"
      ]
     },
     "execution_count": 5,
     "metadata": {},
     "output_type": "execute_result"
    }
   ],
   "source": [
    "# 14. Create a set from a list.\n",
    "\n",
    "#Code:-\n",
    "\n",
    "l = [1,2,3,4,4,5,6,7,77]\n",
    "\n",
    "my_set = set(l)\n",
    "\n",
    "my_set"
   ]
  },
  {
   "cell_type": "code",
   "execution_count": 7,
   "id": "9153e484-7146-4ea6-94fb-9c7bb29814ab",
   "metadata": {},
   "outputs": [
    {
     "data": {
      "text/plain": [
       "[1, 2, 3, 4, 5, 6, 7, 77]"
      ]
     },
     "execution_count": 7,
     "metadata": {},
     "output_type": "execute_result"
    }
   ],
   "source": [
    "# 15. Convert a set to a list.\n",
    "\n",
    "#Code:-\n",
    "\n",
    "my_set = {1, 2, 3, 4, 5, 6, 7, 77}\n",
    "\n",
    "list(my_set)"
   ]
  },
  {
   "cell_type": "code",
   "execution_count": 14,
   "id": "9329bce3-4a75-4dd3-8875-8e98118a4618",
   "metadata": {},
   "outputs": [
    {
     "data": {
      "text/plain": [
       "{1, 2, 3, 5, 6, 7, 77}"
      ]
     },
     "execution_count": 14,
     "metadata": {},
     "output_type": "execute_result"
    }
   ],
   "source": [
    "# 16. Remove a random element from a set.\n",
    "\n",
    "#Code:-\n",
    "\n",
    "my_set = {1, 2, 3, 4, 5, 6, 7, 77}\n",
    "\n",
    "my_set.remove(4)\n",
    "\n",
    "my_set"
   ]
  },
  {
   "cell_type": "code",
   "execution_count": 15,
   "id": "0c46900b-8bce-4021-8775-c806a6b59b52",
   "metadata": {},
   "outputs": [
    {
     "data": {
      "text/plain": [
       "2"
      ]
     },
     "execution_count": 15,
     "metadata": {},
     "output_type": "execute_result"
    }
   ],
   "source": [
    "# 17. Pop an element from a set.\n",
    "\n",
    "#Code:-\n",
    "\n",
    "my_set = {2, 3, 4, 5, 6, 7, 77}\n",
    "\n",
    "my_set.pop()"
   ]
  },
  {
   "cell_type": "code",
   "execution_count": 18,
   "id": "9b8ffb22-6b28-406f-a656-49342e2710e4",
   "metadata": {},
   "outputs": [
    {
     "data": {
      "text/plain": [
       "True"
      ]
     },
     "execution_count": 18,
     "metadata": {},
     "output_type": "execute_result"
    }
   ],
   "source": [
    "# 18. Check if two sets have no elements in common.\n",
    "\n",
    "#Code:-\n",
    "\n",
    "s1 = {1, 2, 3, 4, 5, 10}\n",
    "\n",
    "s2 = {1,2,3}\n",
    "\n",
    "\n",
    "len(s1.intersection(s2)) > 0"
   ]
  },
  {
   "cell_type": "code",
   "execution_count": 21,
   "id": "d5521cfa-916d-4e2e-b12e-50b07a63a1c7",
   "metadata": {},
   "outputs": [
    {
     "data": {
      "text/plain": [
       "{4, 5, 6, 7, 8, 9, 10, 22}"
      ]
     },
     "execution_count": 21,
     "metadata": {},
     "output_type": "execute_result"
    }
   ],
   "source": [
    "# 19. Find the symmetric difference between two sets.\n",
    "\n",
    "#Code:-\n",
    "\n",
    "s1 = {1, 2, 3, 4, 5, 10}\n",
    "\n",
    "s2 = {1,2,3,6,7,8,9,22}\n",
    "\n",
    "s1.symmetric_difference(s2)"
   ]
  },
  {
   "cell_type": "code",
   "execution_count": 25,
   "id": "80b9bb55-2ba4-440c-ad6a-85dc193ed2ce",
   "metadata": {},
   "outputs": [
    {
     "data": {
      "text/plain": [
       "{1, 2, 3, 4, 5, 6, 7, 8, 9, 10, 22}"
      ]
     },
     "execution_count": 25,
     "metadata": {},
     "output_type": "execute_result"
    }
   ],
   "source": [
    "# 20. Update a set with elements from another set.\n",
    "\n",
    "#Code:-\n",
    "\n",
    "s1 = {1, 2, 3, 4, 5, 10}\n",
    "\n",
    "s2 = {1,2,3,6,7,8,9,22}\n",
    "\n",
    "s1.update(s2)\n",
    "\n",
    "s1"
   ]
  },
  {
   "cell_type": "code",
   "execution_count": 47,
   "id": "823ad61d-9ac2-4e87-afd1-53d4b1492748",
   "metadata": {},
   "outputs": [
    {
     "data": {
      "text/plain": [
       "{2, 3, 5, 7, 11}"
      ]
     },
     "execution_count": 47,
     "metadata": {},
     "output_type": "execute_result"
    }
   ],
   "source": [
    "# 21. Create a set of the first 5 prime numbers.\n",
    "\n",
    "#Code:-\n",
    "\n",
    "import sympy\n",
    "\n",
    "prime_numbers = list(sympy.primerange(2,15))[:5]\n",
    "\n",
    "s = set(prime_numbers)\n",
    "\n",
    "s"
   ]
  },
  {
   "cell_type": "code",
   "execution_count": 36,
   "id": "7b5c9785-b956-47fe-93cc-ff7e262684cb",
   "metadata": {},
   "outputs": [
    {
     "data": {
      "text/plain": [
       "False"
      ]
     },
     "execution_count": 36,
     "metadata": {},
     "output_type": "execute_result"
    }
   ],
   "source": [
    "# 22. Check if two sets are identical.\n",
    "\n",
    "#Code:-\n",
    "\n",
    "s1 = {1, 2, 3, 4, 5, 10}\n",
    "\n",
    "s2 = {1,2,3,4,5,10,11}\n",
    "\n",
    "s1 == s2"
   ]
  },
  {
   "cell_type": "code",
   "execution_count": 50,
   "id": "e5510e84-3169-412c-b20b-1ac45620b0e5",
   "metadata": {},
   "outputs": [
    {
     "data": {
      "text/plain": [
       "frozenset({1, 2, 3, 4, 5, 10})"
      ]
     },
     "execution_count": 50,
     "metadata": {},
     "output_type": "execute_result"
    }
   ],
   "source": [
    "# 23. Create a frozen set.\n",
    "\n",
    "#Code:-\n",
    "\n",
    "s = {1, 2, 3, 4, 5, 10}\n",
    "\n",
    "frozenset(s)"
   ]
  },
  {
   "cell_type": "code",
   "execution_count": 54,
   "id": "717300f2-9f38-47f4-a2d9-d77de64f6728",
   "metadata": {},
   "outputs": [
    {
     "data": {
      "text/plain": [
       "True"
      ]
     },
     "execution_count": 54,
     "metadata": {},
     "output_type": "execute_result"
    }
   ],
   "source": [
    "# 24. Check if a set is disjoint with another set.\n",
    "\n",
    "#Code:-\n",
    "\n",
    "s1 = {1, 2, 3, 4, 5, 10}\n",
    "\n",
    "s2 = {11,12,14,15,8}\n",
    "\n",
    "s1.isdisjoint(s2)"
   ]
  },
  {
   "cell_type": "code",
   "execution_count": 56,
   "id": "3acdcb73-0df2-44a0-a593-160dbaebc9b3",
   "metadata": {},
   "outputs": [
    {
     "data": {
      "text/plain": [
       "{1, 4, 9, 16, 25}"
      ]
     },
     "execution_count": 56,
     "metadata": {},
     "output_type": "execute_result"
    }
   ],
   "source": [
    "# 25. Create a set of squares of numbers from 1 to 5.\n",
    "\n",
    "#Code:-\n",
    "\n",
    "s = set(map(lambda x: x*x, range(1,6)))\n",
    "\n",
    "s"
   ]
  },
  {
   "cell_type": "code",
   "execution_count": 60,
   "id": "17f80837-fb88-4ab6-b699-d1774cd4ef21",
   "metadata": {},
   "outputs": [
    {
     "data": {
      "text/plain": [
       "{2, 4, 6, 8, 10}"
      ]
     },
     "execution_count": 60,
     "metadata": {},
     "output_type": "execute_result"
    }
   ],
   "source": [
    "# 26. Filter out all even numbers from a set.\n",
    "\n",
    "#Code:-\n",
    "\n",
    "s1 = {1,2,3,4,5,6,7,8,9,10}\n",
    "\n",
    "s2 = set(filter(lambda x: x%2 == 0, s1))\n",
    "\n",
    "s2"
   ]
  },
  {
   "cell_type": "code",
   "execution_count": 62,
   "id": "fe82c1d5-0a50-4a0e-afb4-d3958fe7bf68",
   "metadata": {},
   "outputs": [
    {
     "data": {
      "text/plain": [
       "{2, 4, 6, 8, 10, 12, 14, 16, 18, 20}"
      ]
     },
     "execution_count": 62,
     "metadata": {},
     "output_type": "execute_result"
    }
   ],
   "source": [
    "# 27. Multiply all elements in a set by 2.\n",
    "\n",
    "#Code:-\n",
    "\n",
    "s1 = {1,2,3,4,5,6,7,8,9,10}\n",
    "\n",
    "s2 = set(map(lambda x: x*2, s1))\n",
    "\n",
    "s2"
   ]
  },
  {
   "cell_type": "code",
   "execution_count": 64,
   "id": "82f8403e-4625-4541-86f7-2159a00e0e24",
   "metadata": {},
   "outputs": [
    {
     "data": {
      "text/plain": [
       "{11, 12, 27, 29, 65, 69, 78, 86, 94, 96}"
      ]
     },
     "execution_count": 64,
     "metadata": {},
     "output_type": "execute_result"
    }
   ],
   "source": [
    "# 28. Create a set of random numbers.\n",
    "\n",
    "#Code:-\n",
    "\n",
    "import random\n",
    "\n",
    "s = set(random.sample(range(1,100),10))\n",
    "\n",
    "s"
   ]
  },
  {
   "cell_type": "code",
   "execution_count": 66,
   "id": "15c66ccb-1ec6-4f2f-80fc-d8cb0938ce33",
   "metadata": {},
   "outputs": [
    {
     "data": {
      "text/plain": [
       "False"
      ]
     },
     "execution_count": 66,
     "metadata": {},
     "output_type": "execute_result"
    }
   ],
   "source": [
    "# 29. Check if a set is empty.\n",
    "\n",
    "s = {1,2,3,4,5,6,7,8,9,10}\n",
    "\n",
    "len(s) == 0 "
   ]
  },
  {
   "cell_type": "code",
   "execution_count": 71,
   "id": "34ae00f1-f04f-4c40-99fb-7881481bcfab",
   "metadata": {},
   "outputs": [
    {
     "data": {
      "text/plain": [
       "{1, 10, 12, 2, 3, 4, frozenset({1, 4, 5, 32})}"
      ]
     },
     "execution_count": 71,
     "metadata": {},
     "output_type": "execute_result"
    }
   ],
   "source": [
    "# 30. Create a nested set (hint: use frozenset).\n",
    "\n",
    "#Code:-\n",
    "\n",
    "frozen_set = frozenset({1,32,4,5,5,})\n",
    "\n",
    "my_set = {1,2,3,4,frozen_set,10,12}\n",
    "\n",
    "my_set"
   ]
  },
  {
   "cell_type": "code",
   "execution_count": 76,
   "id": "d5b7101a-d6e8-4c7c-bbdf-57390af68b33",
   "metadata": {},
   "outputs": [],
   "source": [
    "# 31. Remove an element from a set using the discard method.\n",
    "\n",
    "#Code:-\n",
    "\n",
    "s = {1,2,3,4,5,6,7,8,9,10}\n",
    "\n",
    "a = s.discard(2)\n",
    "\n",
    "a"
   ]
  },
  {
   "cell_type": "code",
   "execution_count": 80,
   "id": "d9b616a8-48ec-4d06-b847-e5577ef25d11",
   "metadata": {},
   "outputs": [
    {
     "data": {
      "text/plain": [
       "False"
      ]
     },
     "execution_count": 80,
     "metadata": {},
     "output_type": "execute_result"
    }
   ],
   "source": [
    "# 32. Compare two sets.\n",
    "\n",
    "#Code:-\n",
    "\n",
    "s1 = {1,2,3,4,5,6,7,8,9,10}\n",
    "\n",
    "s2 = {11,12,13,14,15}\n",
    "\n",
    "s1 == s2"
   ]
  },
  {
   "cell_type": "code",
   "execution_count": 82,
   "id": "c0d1650c-7b69-4ac5-8f5e-e46c2153aa4a",
   "metadata": {},
   "outputs": [
    {
     "data": {
      "text/plain": [
       "{'Z', 'a', 'i', 'm', 'n'}"
      ]
     },
     "execution_count": 82,
     "metadata": {},
     "output_type": "execute_result"
    }
   ],
   "source": [
    "# 33. Create a set from a string.\n",
    "\n",
    "#Code:-\n",
    "\n",
    "s = \"Zamin\"\n",
    "\n",
    "set(s)"
   ]
  },
  {
   "cell_type": "code",
   "execution_count": 89,
   "id": "952ed3f9-5377-460d-9676-32f6580d676a",
   "metadata": {},
   "outputs": [
    {
     "data": {
      "text/plain": [
       "{1, 2, 3, 4, 5}"
      ]
     },
     "execution_count": 89,
     "metadata": {},
     "output_type": "execute_result"
    }
   ],
   "source": [
    "# 34. Convert a set of strings to a set of integers.\n",
    "\n",
    "#Code:-\n",
    "\n",
    "s = {'1', '2', '3', '4', '5'}\n",
    "\n",
    "set(map(int, s))"
   ]
  },
  {
   "cell_type": "code",
   "execution_count": 90,
   "id": "72fd11c1-8070-4cca-aa38-4671ff48c712",
   "metadata": {},
   "outputs": [
    {
     "data": {
      "text/plain": [
       "{'1', '2', '3', '4', '5'}"
      ]
     },
     "execution_count": 90,
     "metadata": {},
     "output_type": "execute_result"
    }
   ],
   "source": [
    "# 35. Convert a set of integers to a set of strings.\n",
    "\n",
    "s = {1, 2, 3, 4, 5}\n",
    "\n",
    "set(map(str,s))"
   ]
  },
  {
   "cell_type": "code",
   "execution_count": 92,
   "id": "a3e247a5-6a86-4f68-963d-54b6097f9088",
   "metadata": {},
   "outputs": [
    {
     "data": {
      "text/plain": [
       "{1, 2, 3, 4, 5}"
      ]
     },
     "execution_count": 92,
     "metadata": {},
     "output_type": "execute_result"
    }
   ],
   "source": [
    "# 36. Create a set from a tuple.\n",
    "\n",
    "#Code:-\n",
    "\n",
    "t = (1,2,3,4,5)\n",
    "\n",
    "set(t)"
   ]
  },
  {
   "cell_type": "code",
   "execution_count": 94,
   "id": "46fa2f68-7e79-4534-b21f-1eed349edb79",
   "metadata": {},
   "outputs": [
    {
     "data": {
      "text/plain": [
       "(1, 2, 3, 4, 5)"
      ]
     },
     "execution_count": 94,
     "metadata": {},
     "output_type": "execute_result"
    }
   ],
   "source": [
    "# 37. Convert a set to a tuple.\n",
    "\n",
    "#Code:-\n",
    "\n",
    "s = {1, 2, 3, 4, 5}\n",
    "\n",
    "tuple(s)"
   ]
  },
  {
   "cell_type": "code",
   "execution_count": 96,
   "id": "641401bc-5ebf-4aec-bb76-a2b7ec773a98",
   "metadata": {},
   "outputs": [
    {
     "data": {
      "text/plain": [
       "5"
      ]
     },
     "execution_count": 96,
     "metadata": {},
     "output_type": "execute_result"
    }
   ],
   "source": [
    "# 38. Find the maximum value in a set.\n",
    "\n",
    "#Code:-\n",
    "\n",
    "s = {1, 2, 3, 4, 5}\n",
    "\n",
    "max(s)"
   ]
  },
  {
   "cell_type": "code",
   "execution_count": 98,
   "id": "5c30e663-08cb-4b1e-907d-617c60b4f29f",
   "metadata": {},
   "outputs": [
    {
     "data": {
      "text/plain": [
       "1"
      ]
     },
     "execution_count": 98,
     "metadata": {},
     "output_type": "execute_result"
    }
   ],
   "source": [
    "# 39. Find the minimum value in a set.\n",
    "\n",
    "#Code:-\n",
    "\n",
    "s = {1, 2, 3, 4, 5}\n",
    "\n",
    "min(s)"
   ]
  },
  {
   "cell_type": "code",
   "execution_count": 109,
   "id": "afe41432-6d68-45a1-9928-47b882fabfb1",
   "metadata": {},
   "outputs": [
    {
     "name": "stdin",
     "output_type": "stream",
     "text": [
      "Enter a value  1 2 3 14 4 1\n"
     ]
    },
    {
     "data": {
      "text/plain": [
       "{1, 2, 3, 4}"
      ]
     },
     "execution_count": 109,
     "metadata": {},
     "output_type": "execute_result"
    }
   ],
   "source": [
    "# 40. Create a set from user input.\n",
    "\n",
    "#Code:\n",
    "\n",
    "user_input = input(\"Enter a value\")\n",
    "\n",
    "my_set = set(user_input)\n",
    "\n",
    "my_set.pop()\n",
    "\n",
    "my_set = set(map(int, my_set))\n",
    "\n",
    "my_set"
   ]
  },
  {
   "cell_type": "code",
   "execution_count": 111,
   "id": "bca2e98a-a6c5-4201-a855-a0a2d8d65aa5",
   "metadata": {},
   "outputs": [
    {
     "data": {
      "text/plain": [
       "False"
      ]
     },
     "execution_count": 111,
     "metadata": {},
     "output_type": "execute_result"
    }
   ],
   "source": [
    "# 41. Check if the intersection of two sets is empty.\n",
    "\n",
    "s1 = {1,2,3,4,5}\n",
    "\n",
    "s2 = {2,4,5}\n",
    "\n",
    "len(s1.intersection(s2)) == 0"
   ]
  },
  {
   "cell_type": "code",
   "execution_count": 112,
   "id": "835425a1-a2b8-42c7-a383-9f5a18390978",
   "metadata": {},
   "outputs": [],
   "source": [
    "# 42. Create a set of the first 5 Fibonacci numbers.\n",
    "\n",
    "#Code:-\n"
   ]
  },
  {
   "cell_type": "code",
   "execution_count": 114,
   "id": "aa6da4ce-c43c-4375-844a-fdca88f50e79",
   "metadata": {},
   "outputs": [
    {
     "data": {
      "text/plain": [
       "{1, 2, 3, 4, 5}"
      ]
     },
     "execution_count": 114,
     "metadata": {},
     "output_type": "execute_result"
    }
   ],
   "source": [
    "# 43. Remove duplicates from a list using sets.\n",
    "\n",
    "#Code:-\n",
    "\n",
    "l = [1,2,2,2,3,3,3,4,5,5,5,]\n",
    "\n",
    "set(l)"
   ]
  },
  {
   "cell_type": "code",
   "execution_count": 115,
   "id": "ae2aab1e-e335-445f-8900-e1b8e8279e55",
   "metadata": {},
   "outputs": [],
   "source": [
    "# 44. Check if two sets have the same elements, regardless of their count.\n",
    "\n",
    "#Code:-\n",
    "\n"
   ]
  },
  {
   "cell_type": "code",
   "execution_count": 117,
   "id": "73a3d064-0b04-4d91-9526-c2d1848ffae8",
   "metadata": {},
   "outputs": [
    {
     "data": {
      "text/plain": [
       "{2, 4, 6, 8, 10, 12, 14, 16, 18, 20}"
      ]
     },
     "execution_count": 117,
     "metadata": {},
     "output_type": "execute_result"
    }
   ],
   "source": [
    "# 45. Create a set of the first `n` powers of 2.\n",
    "\n",
    "#Code:-\n",
    "\n",
    "n = 10\n",
    "\n",
    "s = set(map(lambda x: x*2, range(1,n+1)))\n",
    "\n",
    "s"
   ]
  },
  {
   "cell_type": "code",
   "execution_count": 122,
   "id": "989045e8-52b6-4750-9407-895736c37f04",
   "metadata": {},
   "outputs": [
    {
     "data": {
      "text/plain": [
       "{2, 4, 5}"
      ]
     },
     "execution_count": 122,
     "metadata": {},
     "output_type": "execute_result"
    }
   ],
   "source": [
    "# 46. Find the common elements between a set and a list.\n",
    "\n",
    "#Code:-\n",
    "\n",
    "l = [2,4,5,6,7,8]\n",
    "\n",
    "s = {1,2,3,4,5}\n",
    "\n",
    "s.intersection(set(l))"
   ]
  },
  {
   "cell_type": "code",
   "execution_count": 126,
   "id": "c366d05e-0912-4364-af5a-cf27359a3f30",
   "metadata": {},
   "outputs": [
    {
     "data": {
      "text/plain": [
       "{1.0, 3.0, 6.0, 10.0, 15.0, 21.0, 28.0, 36.0, 45.0, 55.0}"
      ]
     },
     "execution_count": 126,
     "metadata": {},
     "output_type": "execute_result"
    }
   ],
   "source": [
    "# 47. Create a set of the first `n` triangular numbers.\n",
    "\n",
    "#Code:-\n",
    "\n",
    "s = set(map(lambda x: (x*(x+1))/2, range(1,11)))\n",
    "\n",
    "s"
   ]
  },
  {
   "cell_type": "code",
   "execution_count": 127,
   "id": "de5cf8f4-c242-4d2b-9ce9-58f5eb264db6",
   "metadata": {},
   "outputs": [
    {
     "data": {
      "text/plain": [
       "True"
      ]
     },
     "execution_count": 127,
     "metadata": {},
     "output_type": "execute_result"
    }
   ],
   "source": [
    "# 48. Check if a set contains another set as a subset.\n",
    "\n",
    "#Code:-\n",
    "\n",
    "s = {1,2,3,4,5,6,7}\n",
    "\n",
    "s1 = {1,2,3}\n",
    "\n",
    "s1.issubset(s)"
   ]
  },
  {
   "cell_type": "code",
   "execution_count": 131,
   "id": "e2350364-4492-4cad-a2f7-d6f2f62511d0",
   "metadata": {},
   "outputs": [
    {
     "data": {
      "text/plain": [
       "{0, 1}"
      ]
     },
     "execution_count": 131,
     "metadata": {},
     "output_type": "execute_result"
    }
   ],
   "source": [
    "# 49. Create a set of alternating 1s and 0s of length `n.\n",
    "\n",
    "#Code:-\n",
    "\n",
    "n = 10\n",
    "\n",
    "l = list(map(lambda x: x%2, range(1,11)))\n",
    "\n",
    "set(l)"
   ]
  },
  {
   "cell_type": "code",
   "execution_count": 147,
   "id": "22bb1685-c97c-4512-9b34-03fa08048563",
   "metadata": {},
   "outputs": [
    {
     "data": {
      "text/plain": [
       "{1, 2, 3, 4, 5, 6, 7, 11, 22, 33}"
      ]
     },
     "execution_count": 147,
     "metadata": {},
     "output_type": "execute_result"
    }
   ],
   "source": [
    "# 50. Merge multiple sets into one.\n",
    "\n",
    "#Code:-\n",
    "\n",
    "s = {1,2,3,4,5,6,7}\n",
    "\n",
    "s1 = {11,22,33}\n",
    "\n",
    "s.update(s1)\n",
    "\n",
    "s"
   ]
  }
 ],
 "metadata": {
  "kernelspec": {
   "display_name": "Python 3 (ipykernel)",
   "language": "python",
   "name": "python3"
  },
  "language_info": {
   "codemirror_mode": {
    "name": "ipython",
    "version": 3
   },
   "file_extension": ".py",
   "mimetype": "text/x-python",
   "name": "python",
   "nbconvert_exporter": "python",
   "pygments_lexer": "ipython3",
   "version": "3.10.8"
  }
 },
 "nbformat": 4,
 "nbformat_minor": 5
}
